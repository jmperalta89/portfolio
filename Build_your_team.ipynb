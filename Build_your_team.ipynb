{
  "nbformat": 4,
  "nbformat_minor": 0,
  "metadata": {
    "colab": {
      "provenance": [],
      "authorship_tag": "ABX9TyOydXjwSGQLNRsj60SPx6KU",
      "include_colab_link": true
    },
    "kernelspec": {
      "name": "python3",
      "display_name": "Python 3"
    },
    "language_info": {
      "name": "python"
    }
  },
  "cells": [
    {
      "cell_type": "markdown",
      "metadata": {
        "id": "view-in-github",
        "colab_type": "text"
      },
      "source": [
        "<a href=\"https://colab.research.google.com/github/jmperalta89/linkedinJMPERALTA/blob/main/Build_your_team.ipynb\" target=\"_parent\"><img src=\"https://colab.research.google.com/assets/colab-badge.svg\" alt=\"Open In Colab\"/></a>"
      ]
    },
    {
      "cell_type": "code",
      "execution_count": 2,
      "metadata": {
        "id": "Pnr8AjxM0c8I"
      },
      "outputs": [],
      "source": [
        "# Import the data (also import the necessary packages)\n",
        "import pandas as pd\n",
        "import matplotlib.pyplot as plt\n",
        "from math import pi\n"
      ]
    },
    {
      "cell_type": "code",
      "source": [
        "# Mount Google Drive to access the CSV file\n",
        "from google.colab import drive\n",
        "drive.mount('/content/drive')"
      ],
      "metadata": {
        "colab": {
          "base_uri": "https://localhost:8080/"
        },
        "id": "B-oEI5KY3f7L",
        "outputId": "1a59d9b7-5089-4340-9987-766bc36fcc90"
      },
      "execution_count": 3,
      "outputs": [
        {
          "output_type": "stream",
          "name": "stdout",
          "text": [
            "Mounted at /content/drive\n"
          ]
        }
      ]
    },
    {
      "cell_type": "code",
      "source": [
        "#En este paso se carga el archivo con los puntajes de los jugadores definiendo la variable como \"df\"  dejo link a tabla modelo para el que quiera cargar sus jugadores\n",
        "# LINK: https://docs.google.com/spreadsheets/d/1pKwknavUZmFk341Tc9LRr8nLO4UnzUg_B-X0PsbXSbM/edit?usp=sharing\n",
        "file_path = '/content/drive/MyDrive/PLAYER STATS.xlsx'\n",
        "df = pd.read_excel(file_path)"
      ],
      "metadata": {
        "id": "S80nr_zz0s_D"
      },
      "execution_count": 5,
      "outputs": []
    },
    {
      "cell_type": "code",
      "source": [
        "#Exploro el dataset\n",
        "df.columns\n",
        "df.info()\n",
        "df.shape"
      ],
      "metadata": {
        "colab": {
          "base_uri": "https://localhost:8080/"
        },
        "id": "lKZCo_vQ-W2c",
        "outputId": "202b32cb-1bf0-4433-88df-8c661ca0da10"
      },
      "execution_count": 7,
      "outputs": [
        {
          "output_type": "stream",
          "name": "stdout",
          "text": [
            "<class 'pandas.core.frame.DataFrame'>\n",
            "RangeIndex: 10 entries, 0 to 9\n",
            "Data columns (total 10 columns):\n",
            " #   Column       Non-Null Count  Dtype  \n",
            "---  ------       --------------  -----  \n",
            " 0   NOMBRE       10 non-null     object \n",
            " 1   POSICION     10 non-null     object \n",
            " 2   EDAD         10 non-null     int64  \n",
            " 3   RESISTENCIA  10 non-null     int64  \n",
            " 4   VELOCIDAD    10 non-null     int64  \n",
            " 5   DRIBLE       10 non-null     int64  \n",
            " 6   PEGADA       10 non-null     int64  \n",
            " 7   PASE         10 non-null     int64  \n",
            " 8   DEFENSA      10 non-null     int64  \n",
            " 9   MEDIA        10 non-null     float64\n",
            "dtypes: float64(1), int64(7), object(2)\n",
            "memory usage: 928.0+ bytes\n"
          ]
        },
        {
          "output_type": "execute_result",
          "data": {
            "text/plain": [
              "(10, 10)"
            ]
          },
          "metadata": {},
          "execution_count": 7
        }
      ]
    },
    {
      "cell_type": "code",
      "source": [
        "#GENERO GRAFICO DE ESTRELLA PARA VISUALIZAR LOS SKILLS DE LOS JUGADORES\n",
        "import plotly.graph_objects as go\n",
        "\n",
        "\n",
        "categorias = [  'RESISTENCIA', 'VELOCIDAD', 'DRIBLE', 'PEGADA', 'PASE', 'DEFENSA']\n",
        "\n",
        "fig = go.Figure()\n",
        "\n",
        "\n",
        "for i in range(df.shape[0]):\n",
        "  fig.add_trace(go.Scatterpolar(r=df.loc[i,['RESISTENCIA', 'VELOCIDAD', 'DRIBLE', 'PEGADA', 'PASE', 'DEFENSA']].to_list(),\n",
        "  theta=categorias,\n",
        "  fill='toself',\n",
        "  name=df.loc[i,'NOMBRE']))\n",
        "\n",
        "\n",
        "\n",
        "fig.update_layout(polar=dict(\n",
        "    radialaxis=dict(\n",
        "      visible=True,\n",
        "      range=[0, 100],\n",
        "    )),\n",
        "  showlegend=True\n",
        "  )\n",
        "\n",
        "fig.update_layout(\n",
        "    autosize=False,\n",
        "    width=650,\n",
        "    height=650,\n",
        ")\n",
        "\n",
        "fig.show()"
      ],
      "metadata": {
        "colab": {
          "base_uri": "https://localhost:8080/",
          "height": 667
        },
        "id": "QejbuqyfViL6",
        "outputId": "7f7eadd3-7252-49c8-9f94-a27cad26b2ea"
      },
      "execution_count": 9,
      "outputs": [
        {
          "output_type": "display_data",
          "data": {
            "text/html": [
              "<html>\n",
              "<head><meta charset=\"utf-8\" /></head>\n",
              "<body>\n",
              "    <div>            <script src=\"https://cdnjs.cloudflare.com/ajax/libs/mathjax/2.7.5/MathJax.js?config=TeX-AMS-MML_SVG\"></script><script type=\"text/javascript\">if (window.MathJax && window.MathJax.Hub && window.MathJax.Hub.Config) {window.MathJax.Hub.Config({SVG: {font: \"STIX-Web\"}});}</script>                <script type=\"text/javascript\">window.PlotlyConfig = {MathJaxConfig: 'local'};</script>\n",
              "        <script charset=\"utf-8\" src=\"https://cdn.plot.ly/plotly-2.24.1.min.js\"></script>                <div id=\"c7b60421-908c-4562-929d-9410057b347a\" class=\"plotly-graph-div\" style=\"height:650px; width:650px;\"></div>            <script type=\"text/javascript\">                                    window.PLOTLYENV=window.PLOTLYENV || {};                                    if (document.getElementById(\"c7b60421-908c-4562-929d-9410057b347a\")) {                    Plotly.newPlot(                        \"c7b60421-908c-4562-929d-9410057b347a\",                        [{\"fill\":\"toself\",\"name\":\"KIKE\",\"r\":[70,70,85,85,85,70],\"theta\":[\"RESISTENCIA\",\"VELOCIDAD\",\"DRIBLE\",\"PEGADA\",\"PASE\",\"DEFENSA\"],\"type\":\"scatterpolar\"},{\"fill\":\"toself\",\"name\":\"PAB\",\"r\":[70,69,84,84,80,65],\"theta\":[\"RESISTENCIA\",\"VELOCIDAD\",\"DRIBLE\",\"PEGADA\",\"PASE\",\"DEFENSA\"],\"type\":\"scatterpolar\"},{\"fill\":\"toself\",\"name\":\"ESTEBAN\",\"r\":[69,69,80,80,80,70],\"theta\":[\"RESISTENCIA\",\"VELOCIDAD\",\"DRIBLE\",\"PEGADA\",\"PASE\",\"DEFENSA\"],\"type\":\"scatterpolar\"},{\"fill\":\"toself\",\"name\":\"MARTIN\",\"r\":[75,69,75,75,75,100],\"theta\":[\"RESISTENCIA\",\"VELOCIDAD\",\"DRIBLE\",\"PEGADA\",\"PASE\",\"DEFENSA\"],\"type\":\"scatterpolar\"},{\"fill\":\"toself\",\"name\":\"SERGIO\",\"r\":[55,54,80,82,82,70],\"theta\":[\"RESISTENCIA\",\"VELOCIDAD\",\"DRIBLE\",\"PEGADA\",\"PASE\",\"DEFENSA\"],\"type\":\"scatterpolar\"},{\"fill\":\"toself\",\"name\":\"DAMI\",\"r\":[62,65,79,69,75,70],\"theta\":[\"RESISTENCIA\",\"VELOCIDAD\",\"DRIBLE\",\"PEGADA\",\"PASE\",\"DEFENSA\"],\"type\":\"scatterpolar\"},{\"fill\":\"toself\",\"name\":\"EMMA\",\"r\":[61,62,65,70,74,70],\"theta\":[\"RESISTENCIA\",\"VELOCIDAD\",\"DRIBLE\",\"PEGADA\",\"PASE\",\"DEFENSA\"],\"type\":\"scatterpolar\"},{\"fill\":\"toself\",\"name\":\"DUMMY\",\"r\":[55,66,65,67,67,70],\"theta\":[\"RESISTENCIA\",\"VELOCIDAD\",\"DRIBLE\",\"PEGADA\",\"PASE\",\"DEFENSA\"],\"type\":\"scatterpolar\"},{\"fill\":\"toself\",\"name\":\"JM\",\"r\":[70,62,40,62,65,70],\"theta\":[\"RESISTENCIA\",\"VELOCIDAD\",\"DRIBLE\",\"PEGADA\",\"PASE\",\"DEFENSA\"],\"type\":\"scatterpolar\"},{\"fill\":\"toself\",\"name\":\"FER\",\"r\":[69,65,45,65,34,69],\"theta\":[\"RESISTENCIA\",\"VELOCIDAD\",\"DRIBLE\",\"PEGADA\",\"PASE\",\"DEFENSA\"],\"type\":\"scatterpolar\"}],                        {\"template\":{\"data\":{\"histogram2dcontour\":[{\"type\":\"histogram2dcontour\",\"colorbar\":{\"outlinewidth\":0,\"ticks\":\"\"},\"colorscale\":[[0.0,\"#0d0887\"],[0.1111111111111111,\"#46039f\"],[0.2222222222222222,\"#7201a8\"],[0.3333333333333333,\"#9c179e\"],[0.4444444444444444,\"#bd3786\"],[0.5555555555555556,\"#d8576b\"],[0.6666666666666666,\"#ed7953\"],[0.7777777777777778,\"#fb9f3a\"],[0.8888888888888888,\"#fdca26\"],[1.0,\"#f0f921\"]]}],\"choropleth\":[{\"type\":\"choropleth\",\"colorbar\":{\"outlinewidth\":0,\"ticks\":\"\"}}],\"histogram2d\":[{\"type\":\"histogram2d\",\"colorbar\":{\"outlinewidth\":0,\"ticks\":\"\"},\"colorscale\":[[0.0,\"#0d0887\"],[0.1111111111111111,\"#46039f\"],[0.2222222222222222,\"#7201a8\"],[0.3333333333333333,\"#9c179e\"],[0.4444444444444444,\"#bd3786\"],[0.5555555555555556,\"#d8576b\"],[0.6666666666666666,\"#ed7953\"],[0.7777777777777778,\"#fb9f3a\"],[0.8888888888888888,\"#fdca26\"],[1.0,\"#f0f921\"]]}],\"heatmap\":[{\"type\":\"heatmap\",\"colorbar\":{\"outlinewidth\":0,\"ticks\":\"\"},\"colorscale\":[[0.0,\"#0d0887\"],[0.1111111111111111,\"#46039f\"],[0.2222222222222222,\"#7201a8\"],[0.3333333333333333,\"#9c179e\"],[0.4444444444444444,\"#bd3786\"],[0.5555555555555556,\"#d8576b\"],[0.6666666666666666,\"#ed7953\"],[0.7777777777777778,\"#fb9f3a\"],[0.8888888888888888,\"#fdca26\"],[1.0,\"#f0f921\"]]}],\"heatmapgl\":[{\"type\":\"heatmapgl\",\"colorbar\":{\"outlinewidth\":0,\"ticks\":\"\"},\"colorscale\":[[0.0,\"#0d0887\"],[0.1111111111111111,\"#46039f\"],[0.2222222222222222,\"#7201a8\"],[0.3333333333333333,\"#9c179e\"],[0.4444444444444444,\"#bd3786\"],[0.5555555555555556,\"#d8576b\"],[0.6666666666666666,\"#ed7953\"],[0.7777777777777778,\"#fb9f3a\"],[0.8888888888888888,\"#fdca26\"],[1.0,\"#f0f921\"]]}],\"contourcarpet\":[{\"type\":\"contourcarpet\",\"colorbar\":{\"outlinewidth\":0,\"ticks\":\"\"}}],\"contour\":[{\"type\":\"contour\",\"colorbar\":{\"outlinewidth\":0,\"ticks\":\"\"},\"colorscale\":[[0.0,\"#0d0887\"],[0.1111111111111111,\"#46039f\"],[0.2222222222222222,\"#7201a8\"],[0.3333333333333333,\"#9c179e\"],[0.4444444444444444,\"#bd3786\"],[0.5555555555555556,\"#d8576b\"],[0.6666666666666666,\"#ed7953\"],[0.7777777777777778,\"#fb9f3a\"],[0.8888888888888888,\"#fdca26\"],[1.0,\"#f0f921\"]]}],\"surface\":[{\"type\":\"surface\",\"colorbar\":{\"outlinewidth\":0,\"ticks\":\"\"},\"colorscale\":[[0.0,\"#0d0887\"],[0.1111111111111111,\"#46039f\"],[0.2222222222222222,\"#7201a8\"],[0.3333333333333333,\"#9c179e\"],[0.4444444444444444,\"#bd3786\"],[0.5555555555555556,\"#d8576b\"],[0.6666666666666666,\"#ed7953\"],[0.7777777777777778,\"#fb9f3a\"],[0.8888888888888888,\"#fdca26\"],[1.0,\"#f0f921\"]]}],\"mesh3d\":[{\"type\":\"mesh3d\",\"colorbar\":{\"outlinewidth\":0,\"ticks\":\"\"}}],\"scatter\":[{\"fillpattern\":{\"fillmode\":\"overlay\",\"size\":10,\"solidity\":0.2},\"type\":\"scatter\"}],\"parcoords\":[{\"type\":\"parcoords\",\"line\":{\"colorbar\":{\"outlinewidth\":0,\"ticks\":\"\"}}}],\"scatterpolargl\":[{\"type\":\"scatterpolargl\",\"marker\":{\"colorbar\":{\"outlinewidth\":0,\"ticks\":\"\"}}}],\"bar\":[{\"error_x\":{\"color\":\"#2a3f5f\"},\"error_y\":{\"color\":\"#2a3f5f\"},\"marker\":{\"line\":{\"color\":\"#E5ECF6\",\"width\":0.5},\"pattern\":{\"fillmode\":\"overlay\",\"size\":10,\"solidity\":0.2}},\"type\":\"bar\"}],\"scattergeo\":[{\"type\":\"scattergeo\",\"marker\":{\"colorbar\":{\"outlinewidth\":0,\"ticks\":\"\"}}}],\"scatterpolar\":[{\"type\":\"scatterpolar\",\"marker\":{\"colorbar\":{\"outlinewidth\":0,\"ticks\":\"\"}}}],\"histogram\":[{\"marker\":{\"pattern\":{\"fillmode\":\"overlay\",\"size\":10,\"solidity\":0.2}},\"type\":\"histogram\"}],\"scattergl\":[{\"type\":\"scattergl\",\"marker\":{\"colorbar\":{\"outlinewidth\":0,\"ticks\":\"\"}}}],\"scatter3d\":[{\"type\":\"scatter3d\",\"line\":{\"colorbar\":{\"outlinewidth\":0,\"ticks\":\"\"}},\"marker\":{\"colorbar\":{\"outlinewidth\":0,\"ticks\":\"\"}}}],\"scattermapbox\":[{\"type\":\"scattermapbox\",\"marker\":{\"colorbar\":{\"outlinewidth\":0,\"ticks\":\"\"}}}],\"scatterternary\":[{\"type\":\"scatterternary\",\"marker\":{\"colorbar\":{\"outlinewidth\":0,\"ticks\":\"\"}}}],\"scattercarpet\":[{\"type\":\"scattercarpet\",\"marker\":{\"colorbar\":{\"outlinewidth\":0,\"ticks\":\"\"}}}],\"carpet\":[{\"aaxis\":{\"endlinecolor\":\"#2a3f5f\",\"gridcolor\":\"white\",\"linecolor\":\"white\",\"minorgridcolor\":\"white\",\"startlinecolor\":\"#2a3f5f\"},\"baxis\":{\"endlinecolor\":\"#2a3f5f\",\"gridcolor\":\"white\",\"linecolor\":\"white\",\"minorgridcolor\":\"white\",\"startlinecolor\":\"#2a3f5f\"},\"type\":\"carpet\"}],\"table\":[{\"cells\":{\"fill\":{\"color\":\"#EBF0F8\"},\"line\":{\"color\":\"white\"}},\"header\":{\"fill\":{\"color\":\"#C8D4E3\"},\"line\":{\"color\":\"white\"}},\"type\":\"table\"}],\"barpolar\":[{\"marker\":{\"line\":{\"color\":\"#E5ECF6\",\"width\":0.5},\"pattern\":{\"fillmode\":\"overlay\",\"size\":10,\"solidity\":0.2}},\"type\":\"barpolar\"}],\"pie\":[{\"automargin\":true,\"type\":\"pie\"}]},\"layout\":{\"autotypenumbers\":\"strict\",\"colorway\":[\"#636efa\",\"#EF553B\",\"#00cc96\",\"#ab63fa\",\"#FFA15A\",\"#19d3f3\",\"#FF6692\",\"#B6E880\",\"#FF97FF\",\"#FECB52\"],\"font\":{\"color\":\"#2a3f5f\"},\"hovermode\":\"closest\",\"hoverlabel\":{\"align\":\"left\"},\"paper_bgcolor\":\"white\",\"plot_bgcolor\":\"#E5ECF6\",\"polar\":{\"bgcolor\":\"#E5ECF6\",\"angularaxis\":{\"gridcolor\":\"white\",\"linecolor\":\"white\",\"ticks\":\"\"},\"radialaxis\":{\"gridcolor\":\"white\",\"linecolor\":\"white\",\"ticks\":\"\"}},\"ternary\":{\"bgcolor\":\"#E5ECF6\",\"aaxis\":{\"gridcolor\":\"white\",\"linecolor\":\"white\",\"ticks\":\"\"},\"baxis\":{\"gridcolor\":\"white\",\"linecolor\":\"white\",\"ticks\":\"\"},\"caxis\":{\"gridcolor\":\"white\",\"linecolor\":\"white\",\"ticks\":\"\"}},\"coloraxis\":{\"colorbar\":{\"outlinewidth\":0,\"ticks\":\"\"}},\"colorscale\":{\"sequential\":[[0.0,\"#0d0887\"],[0.1111111111111111,\"#46039f\"],[0.2222222222222222,\"#7201a8\"],[0.3333333333333333,\"#9c179e\"],[0.4444444444444444,\"#bd3786\"],[0.5555555555555556,\"#d8576b\"],[0.6666666666666666,\"#ed7953\"],[0.7777777777777778,\"#fb9f3a\"],[0.8888888888888888,\"#fdca26\"],[1.0,\"#f0f921\"]],\"sequentialminus\":[[0.0,\"#0d0887\"],[0.1111111111111111,\"#46039f\"],[0.2222222222222222,\"#7201a8\"],[0.3333333333333333,\"#9c179e\"],[0.4444444444444444,\"#bd3786\"],[0.5555555555555556,\"#d8576b\"],[0.6666666666666666,\"#ed7953\"],[0.7777777777777778,\"#fb9f3a\"],[0.8888888888888888,\"#fdca26\"],[1.0,\"#f0f921\"]],\"diverging\":[[0,\"#8e0152\"],[0.1,\"#c51b7d\"],[0.2,\"#de77ae\"],[0.3,\"#f1b6da\"],[0.4,\"#fde0ef\"],[0.5,\"#f7f7f7\"],[0.6,\"#e6f5d0\"],[0.7,\"#b8e186\"],[0.8,\"#7fbc41\"],[0.9,\"#4d9221\"],[1,\"#276419\"]]},\"xaxis\":{\"gridcolor\":\"white\",\"linecolor\":\"white\",\"ticks\":\"\",\"title\":{\"standoff\":15},\"zerolinecolor\":\"white\",\"automargin\":true,\"zerolinewidth\":2},\"yaxis\":{\"gridcolor\":\"white\",\"linecolor\":\"white\",\"ticks\":\"\",\"title\":{\"standoff\":15},\"zerolinecolor\":\"white\",\"automargin\":true,\"zerolinewidth\":2},\"scene\":{\"xaxis\":{\"backgroundcolor\":\"#E5ECF6\",\"gridcolor\":\"white\",\"linecolor\":\"white\",\"showbackground\":true,\"ticks\":\"\",\"zerolinecolor\":\"white\",\"gridwidth\":2},\"yaxis\":{\"backgroundcolor\":\"#E5ECF6\",\"gridcolor\":\"white\",\"linecolor\":\"white\",\"showbackground\":true,\"ticks\":\"\",\"zerolinecolor\":\"white\",\"gridwidth\":2},\"zaxis\":{\"backgroundcolor\":\"#E5ECF6\",\"gridcolor\":\"white\",\"linecolor\":\"white\",\"showbackground\":true,\"ticks\":\"\",\"zerolinecolor\":\"white\",\"gridwidth\":2}},\"shapedefaults\":{\"line\":{\"color\":\"#2a3f5f\"}},\"annotationdefaults\":{\"arrowcolor\":\"#2a3f5f\",\"arrowhead\":0,\"arrowwidth\":1},\"geo\":{\"bgcolor\":\"white\",\"landcolor\":\"#E5ECF6\",\"subunitcolor\":\"white\",\"showland\":true,\"showlakes\":true,\"lakecolor\":\"white\"},\"title\":{\"x\":0.05},\"mapbox\":{\"style\":\"light\"}}},\"polar\":{\"radialaxis\":{\"visible\":true,\"range\":[0,100]}},\"showlegend\":true,\"autosize\":false,\"width\":650,\"height\":650},                        {\"responsive\": true}                    ).then(function(){\n",
              "                            \n",
              "var gd = document.getElementById('c7b60421-908c-4562-929d-9410057b347a');\n",
              "var x = new MutationObserver(function (mutations, observer) {{\n",
              "        var display = window.getComputedStyle(gd).display;\n",
              "        if (!display || display === 'none') {{\n",
              "            console.log([gd, 'removed!']);\n",
              "            Plotly.purge(gd);\n",
              "            observer.disconnect();\n",
              "        }}\n",
              "}});\n",
              "\n",
              "// Listen for the removal of the full notebook cells\n",
              "var notebookContainer = gd.closest('#notebook-container');\n",
              "if (notebookContainer) {{\n",
              "    x.observe(notebookContainer, {childList: true});\n",
              "}}\n",
              "\n",
              "// Listen for the clearing of the current output cell\n",
              "var outputEl = gd.closest('.output');\n",
              "if (outputEl) {{\n",
              "    x.observe(outputEl, {childList: true});\n",
              "}}\n",
              "\n",
              "                        })                };                            </script>        </div>\n",
              "</body>\n",
              "</html>"
            ]
          },
          "metadata": {}
        }
      ]
    },
    {
      "cell_type": "code",
      "source": [
        "# Specify players who should not be in the same sample\n",
        "cabeza_de_serie_a = \"MARTIN\"\n",
        "cabeza_de_serie_b = \"KIKE\""
      ],
      "metadata": {
        "id": "v8E28Y5r-A5N"
      },
      "execution_count": 42,
      "outputs": []
    },
    {
      "cell_type": "code",
      "source": [
        "# Asegurarse de que los jugadores cabeza de serie estén en el DataFrame\n",
        "if cabeza_de_serie_a not in df[\"NOMBRE\"].values or cabeza_de_serie_b not in df[\"NOMBRE\"].values:\n",
        "    raise ValueError(\"Los jugadores cabeza de serie deben estar en el DataFrame.\")\n",
        "\n",
        "# Excluir jugadores cabeza de serie\n",
        "resto_jugadores_df = df[~df[\"NOMBRE\"].isin([cabeza_de_serie_a, cabeza_de_serie_b])]\n",
        "\n",
        "# Shuffle the remaining players using np.random.permutation\n",
        "shuffled_indices = np.random.permutation(resto_jugadores_df.index)\n",
        "df_shuffled = resto_jugadores_df.loc[shuffled_indices].reset_index(drop=True)\n",
        "\n",
        "# Use array slicing for splitting\n",
        "split_index = int(0.5 * len(df_shuffled))\n",
        "sample1 = df_shuffled.iloc[:split_index]\n",
        "sample2 = df_shuffled.iloc[split_index:]\n",
        "\n",
        "# Insertar cabeza de serie en cada equipo\n",
        "sample1_with_cabeza = pd.concat([sample1, df[df[\"NOMBRE\"] == cabeza_de_serie_a]]).reset_index(drop=True)\n",
        "sample2_with_cabeza = pd.concat([sample2, df[df[\"NOMBRE\"] == cabeza_de_serie_b]]).reset_index(drop=True)\n",
        "\n",
        "# Display summary statistics for the samples\n",
        "print(\"Plantel Summary Statistics:\")\n",
        "print(round(df[\"MEDIA\"].mean(), 2))\n",
        "print(f\"Equipo 1 Summary Statistics):\")\n",
        "print(round(sample1_with_cabeza[\"MEDIA\"].mean(), 2))\n",
        "print(\"Equipo 1 members:\")\n",
        "print(sample1_with_cabeza[\"NOMBRE\"])\n",
        "\n",
        "print(f\"\\nEquipo 2 Summary Statistics:\")\n",
        "print(round(sample2_with_cabeza[\"MEDIA\"].mean(), 2))\n",
        "print(\"Equipo 2 members:\")\n",
        "print(sample2_with_cabeza[\"NOMBRE\"])"
      ],
      "metadata": {
        "colab": {
          "base_uri": "https://localhost:8080/"
        },
        "id": "fAnM3wraAItL",
        "outputId": "c195f3fd-fb84-456b-873e-5120ab943d36"
      },
      "execution_count": 47,
      "outputs": [
        {
          "output_type": "stream",
          "name": "stdout",
          "text": [
            "Plantel Summary Statistics:\n",
            "83.7\n",
            "Equipo 1 Summary Statistics):\n",
            "83.24\n",
            "Equipo 1 members:\n",
            "0       PAB\n",
            "1    SERGIO\n",
            "2       FER\n",
            "3     DUMMY\n",
            "4    MARTIN\n",
            "Name: NOMBRE, dtype: object\n",
            "\n",
            "Equipo 2 Summary Statistics:\n",
            "84.16\n",
            "Equipo 2 members:\n",
            "0         JM\n",
            "1    ESTEBAN\n",
            "2       DAMI\n",
            "3       EMMA\n",
            "4       KIKE\n",
            "Name: NOMBRE, dtype: object\n"
          ]
        }
      ]
    }
  ]
}