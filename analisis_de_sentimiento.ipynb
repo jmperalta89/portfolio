{
  "nbformat": 4,
  "nbformat_minor": 0,
  "metadata": {
    "colab": {
      "provenance": [],
      "include_colab_link": true
    },
    "kernelspec": {
      "name": "python3",
      "display_name": "Python 3"
    },
    "language_info": {
      "name": "python"
    },
    "widgets": {
      "application/vnd.jupyter.widget-state+json": {
        "eb60e2d16201498f8f54f31ad570792c": {
          "model_module": "@jupyter-widgets/controls",
          "model_name": "HBoxModel",
          "model_module_version": "1.5.0",
          "state": {
            "_dom_classes": [],
            "_model_module": "@jupyter-widgets/controls",
            "_model_module_version": "1.5.0",
            "_model_name": "HBoxModel",
            "_view_count": null,
            "_view_module": "@jupyter-widgets/controls",
            "_view_module_version": "1.5.0",
            "_view_name": "HBoxView",
            "box_style": "",
            "children": [
              "IPY_MODEL_938b028bb9fe483bb2483b41420af381",
              "IPY_MODEL_0939fc9b8fd94e3eaa85d1c92b1484ea",
              "IPY_MODEL_1303bfba3e4942f4a04c4c01893deb0a"
            ],
            "layout": "IPY_MODEL_4cdbcb103e064ecba055b50dfc1f80ac"
          }
        },
        "938b028bb9fe483bb2483b41420af381": {
          "model_module": "@jupyter-widgets/controls",
          "model_name": "HTMLModel",
          "model_module_version": "1.5.0",
          "state": {
            "_dom_classes": [],
            "_model_module": "@jupyter-widgets/controls",
            "_model_module_version": "1.5.0",
            "_model_name": "HTMLModel",
            "_view_count": null,
            "_view_module": "@jupyter-widgets/controls",
            "_view_module_version": "1.5.0",
            "_view_name": "HTMLView",
            "description": "",
            "description_tooltip": null,
            "layout": "IPY_MODEL_a461ea7dba1e41f7b4ed459297529e29",
            "placeholder": "​",
            "style": "IPY_MODEL_e13ee668613742058611b362f2a3f740",
            "value": "100%"
          }
        },
        "0939fc9b8fd94e3eaa85d1c92b1484ea": {
          "model_module": "@jupyter-widgets/controls",
          "model_name": "FloatProgressModel",
          "model_module_version": "1.5.0",
          "state": {
            "_dom_classes": [],
            "_model_module": "@jupyter-widgets/controls",
            "_model_module_version": "1.5.0",
            "_model_name": "FloatProgressModel",
            "_view_count": null,
            "_view_module": "@jupyter-widgets/controls",
            "_view_module_version": "1.5.0",
            "_view_name": "ProgressView",
            "bar_style": "success",
            "description": "",
            "description_tooltip": null,
            "layout": "IPY_MODEL_b37057d49069430cbb424b513c3b91b3",
            "max": 943,
            "min": 0,
            "orientation": "horizontal",
            "style": "IPY_MODEL_ad8b17a831ae41b89f027ac05587441c",
            "value": 943
          }
        },
        "1303bfba3e4942f4a04c4c01893deb0a": {
          "model_module": "@jupyter-widgets/controls",
          "model_name": "HTMLModel",
          "model_module_version": "1.5.0",
          "state": {
            "_dom_classes": [],
            "_model_module": "@jupyter-widgets/controls",
            "_model_module_version": "1.5.0",
            "_model_name": "HTMLModel",
            "_view_count": null,
            "_view_module": "@jupyter-widgets/controls",
            "_view_module_version": "1.5.0",
            "_view_name": "HTMLView",
            "description": "",
            "description_tooltip": null,
            "layout": "IPY_MODEL_3712a3af428c46e29798080200328d65",
            "placeholder": "​",
            "style": "IPY_MODEL_e66c61627a65439a99f5ffeb52542922",
            "value": " 943/943 [00:00&lt;00:00, 1775.57it/s]"
          }
        },
        "4cdbcb103e064ecba055b50dfc1f80ac": {
          "model_module": "@jupyter-widgets/base",
          "model_name": "LayoutModel",
          "model_module_version": "1.2.0",
          "state": {
            "_model_module": "@jupyter-widgets/base",
            "_model_module_version": "1.2.0",
            "_model_name": "LayoutModel",
            "_view_count": null,
            "_view_module": "@jupyter-widgets/base",
            "_view_module_version": "1.2.0",
            "_view_name": "LayoutView",
            "align_content": null,
            "align_items": null,
            "align_self": null,
            "border": null,
            "bottom": null,
            "display": null,
            "flex": null,
            "flex_flow": null,
            "grid_area": null,
            "grid_auto_columns": null,
            "grid_auto_flow": null,
            "grid_auto_rows": null,
            "grid_column": null,
            "grid_gap": null,
            "grid_row": null,
            "grid_template_areas": null,
            "grid_template_columns": null,
            "grid_template_rows": null,
            "height": null,
            "justify_content": null,
            "justify_items": null,
            "left": null,
            "margin": null,
            "max_height": null,
            "max_width": null,
            "min_height": null,
            "min_width": null,
            "object_fit": null,
            "object_position": null,
            "order": null,
            "overflow": null,
            "overflow_x": null,
            "overflow_y": null,
            "padding": null,
            "right": null,
            "top": null,
            "visibility": null,
            "width": null
          }
        },
        "a461ea7dba1e41f7b4ed459297529e29": {
          "model_module": "@jupyter-widgets/base",
          "model_name": "LayoutModel",
          "model_module_version": "1.2.0",
          "state": {
            "_model_module": "@jupyter-widgets/base",
            "_model_module_version": "1.2.0",
            "_model_name": "LayoutModel",
            "_view_count": null,
            "_view_module": "@jupyter-widgets/base",
            "_view_module_version": "1.2.0",
            "_view_name": "LayoutView",
            "align_content": null,
            "align_items": null,
            "align_self": null,
            "border": null,
            "bottom": null,
            "display": null,
            "flex": null,
            "flex_flow": null,
            "grid_area": null,
            "grid_auto_columns": null,
            "grid_auto_flow": null,
            "grid_auto_rows": null,
            "grid_column": null,
            "grid_gap": null,
            "grid_row": null,
            "grid_template_areas": null,
            "grid_template_columns": null,
            "grid_template_rows": null,
            "height": null,
            "justify_content": null,
            "justify_items": null,
            "left": null,
            "margin": null,
            "max_height": null,
            "max_width": null,
            "min_height": null,
            "min_width": null,
            "object_fit": null,
            "object_position": null,
            "order": null,
            "overflow": null,
            "overflow_x": null,
            "overflow_y": null,
            "padding": null,
            "right": null,
            "top": null,
            "visibility": null,
            "width": null
          }
        },
        "e13ee668613742058611b362f2a3f740": {
          "model_module": "@jupyter-widgets/controls",
          "model_name": "DescriptionStyleModel",
          "model_module_version": "1.5.0",
          "state": {
            "_model_module": "@jupyter-widgets/controls",
            "_model_module_version": "1.5.0",
            "_model_name": "DescriptionStyleModel",
            "_view_count": null,
            "_view_module": "@jupyter-widgets/base",
            "_view_module_version": "1.2.0",
            "_view_name": "StyleView",
            "description_width": ""
          }
        },
        "b37057d49069430cbb424b513c3b91b3": {
          "model_module": "@jupyter-widgets/base",
          "model_name": "LayoutModel",
          "model_module_version": "1.2.0",
          "state": {
            "_model_module": "@jupyter-widgets/base",
            "_model_module_version": "1.2.0",
            "_model_name": "LayoutModel",
            "_view_count": null,
            "_view_module": "@jupyter-widgets/base",
            "_view_module_version": "1.2.0",
            "_view_name": "LayoutView",
            "align_content": null,
            "align_items": null,
            "align_self": null,
            "border": null,
            "bottom": null,
            "display": null,
            "flex": null,
            "flex_flow": null,
            "grid_area": null,
            "grid_auto_columns": null,
            "grid_auto_flow": null,
            "grid_auto_rows": null,
            "grid_column": null,
            "grid_gap": null,
            "grid_row": null,
            "grid_template_areas": null,
            "grid_template_columns": null,
            "grid_template_rows": null,
            "height": null,
            "justify_content": null,
            "justify_items": null,
            "left": null,
            "margin": null,
            "max_height": null,
            "max_width": null,
            "min_height": null,
            "min_width": null,
            "object_fit": null,
            "object_position": null,
            "order": null,
            "overflow": null,
            "overflow_x": null,
            "overflow_y": null,
            "padding": null,
            "right": null,
            "top": null,
            "visibility": null,
            "width": null
          }
        },
        "ad8b17a831ae41b89f027ac05587441c": {
          "model_module": "@jupyter-widgets/controls",
          "model_name": "ProgressStyleModel",
          "model_module_version": "1.5.0",
          "state": {
            "_model_module": "@jupyter-widgets/controls",
            "_model_module_version": "1.5.0",
            "_model_name": "ProgressStyleModel",
            "_view_count": null,
            "_view_module": "@jupyter-widgets/base",
            "_view_module_version": "1.2.0",
            "_view_name": "StyleView",
            "bar_color": null,
            "description_width": ""
          }
        },
        "3712a3af428c46e29798080200328d65": {
          "model_module": "@jupyter-widgets/base",
          "model_name": "LayoutModel",
          "model_module_version": "1.2.0",
          "state": {
            "_model_module": "@jupyter-widgets/base",
            "_model_module_version": "1.2.0",
            "_model_name": "LayoutModel",
            "_view_count": null,
            "_view_module": "@jupyter-widgets/base",
            "_view_module_version": "1.2.0",
            "_view_name": "LayoutView",
            "align_content": null,
            "align_items": null,
            "align_self": null,
            "border": null,
            "bottom": null,
            "display": null,
            "flex": null,
            "flex_flow": null,
            "grid_area": null,
            "grid_auto_columns": null,
            "grid_auto_flow": null,
            "grid_auto_rows": null,
            "grid_column": null,
            "grid_gap": null,
            "grid_row": null,
            "grid_template_areas": null,
            "grid_template_columns": null,
            "grid_template_rows": null,
            "height": null,
            "justify_content": null,
            "justify_items": null,
            "left": null,
            "margin": null,
            "max_height": null,
            "max_width": null,
            "min_height": null,
            "min_width": null,
            "object_fit": null,
            "object_position": null,
            "order": null,
            "overflow": null,
            "overflow_x": null,
            "overflow_y": null,
            "padding": null,
            "right": null,
            "top": null,
            "visibility": null,
            "width": null
          }
        },
        "e66c61627a65439a99f5ffeb52542922": {
          "model_module": "@jupyter-widgets/controls",
          "model_name": "DescriptionStyleModel",
          "model_module_version": "1.5.0",
          "state": {
            "_model_module": "@jupyter-widgets/controls",
            "_model_module_version": "1.5.0",
            "_model_name": "DescriptionStyleModel",
            "_view_count": null,
            "_view_module": "@jupyter-widgets/base",
            "_view_module_version": "1.2.0",
            "_view_name": "StyleView",
            "description_width": ""
          }
        }
      }
    }
  },
  "cells": [
    {
      "cell_type": "markdown",
      "metadata": {
        "id": "view-in-github",
        "colab_type": "text"
      },
      "source": [
        "<a href=\"https://colab.research.google.com/github/jmperalta89/portfolio/blob/main/analisis_de_sentimiento.ipynb\" target=\"_parent\"><img src=\"https://colab.research.google.com/assets/colab-badge.svg\" alt=\"Open In Colab\"/></a>"
      ]
    },
    {
      "cell_type": "markdown",
      "source": [
        "#*Análisis* de Sentimientos:\n",
        "![score.png](data:image/png;base64,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)\n",
        "\n",
        "Técnica:\n",
        "\n",
        "El análisis de sentimientos implica el uso de algoritmos de procesamiento de lenguaje natural (NLP) y aprendizaje automático para determinar la actitud o emoción expresada en un texto.\n",
        "Los enfoques comunes incluyen el uso de modelos de aprendizaje automático supervisados (como clasificadores de texto) o técnicas de procesamiento de lenguaje natural basadas en reglas.\n",
        "Estos algoritmos pueden clasificar el texto en categorías como positivo, negativo o neutral, o asignar puntuaciones de sentimiento que indican la intensidad de la emoción expresada.\n",
        "Metodología:\n",
        "\n",
        "La metodología del análisis de sentimientos generalmente implica las siguientes etapas:\n",
        "Preprocesamiento de texto: limpieza y normalización del texto (eliminación de caracteres especiales, tokenización, eliminación de stopwords, lematización, etc.).\n",
        "Selección o entrenamiento de un modelo de análisis de sentimientos: esto puede incluir la selección de algoritmos de aprendizaje automático, la extracción de características relevantes del texto y el entrenamiento del modelo con datos etiquetados previamente.\n",
        "Evaluación del modelo: se evalúa el rendimiento del modelo utilizando métricas como precisión, exhaustividad, F1-score, matriz de confusión, etc.\n",
        "Aplicación del modelo: una vez entrenado y evaluado, el modelo se aplica para analizar el sentimiento de textos nuevos o en tiempo real."
      ],
      "metadata": {
        "id": "w2PL8FHyOCDH"
      }
    },
    {
      "cell_type": "code",
      "execution_count": null,
      "metadata": {
        "id": "s0phUZ7pX6gF",
        "colab": {
          "base_uri": "https://localhost:8080/"
        },
        "outputId": "7efa21fb-9bee-4938-aea4-cb1c1b2cd845"
      },
      "outputs": [
        {
          "output_type": "stream",
          "name": "stdout",
          "text": [
            "Collecting sentiment-analysis-spanish\n",
            "  Downloading sentiment_analysis_spanish-0.0.25-py3-none-any.whl (30.0 MB)\n",
            "\u001b[2K     \u001b[90m━━━━━━━━━━━━━━━━━━━━━━━━━━━━━━━━━━━━━━━━\u001b[0m \u001b[32m30.0/30.0 MB\u001b[0m \u001b[31m18.5 MB/s\u001b[0m eta \u001b[36m0:00:00\u001b[0m\n",
            "\u001b[?25hInstalling collected packages: sentiment-analysis-spanish\n",
            "Successfully installed sentiment-analysis-spanish-0.0.25\n"
          ]
        }
      ],
      "source": [
        "pip install sentiment-analysis-spanish"
      ]
    },
    {
      "cell_type": "markdown",
      "source": [
        "\n",
        "\n",
        "---\n",
        "\n"
      ],
      "metadata": {
        "id": "uFogmk-PbElx"
      }
    },
    {
      "cell_type": "code",
      "source": [
        "from sentiment_analysis_spanish import sentiment_analysis\n",
        "\n",
        "import pandas as pd\n",
        "import matplotlib.pyplot as plt\n",
        "import matplotlib.animation as animation\n",
        "from random import randint"
      ],
      "metadata": {
        "id": "0D7Lc90XaqOL"
      },
      "execution_count": null,
      "outputs": []
    },
    {
      "cell_type": "code",
      "source": [
        "path = \"/content/drive/MyDrive/Colab Notebooks/base_encuesta/encuesta_20240125_anonimizado.xlsx\""
      ],
      "metadata": {
        "id": "WPJyVhL2BEKp"
      },
      "execution_count": null,
      "outputs": []
    },
    {
      "cell_type": "code",
      "source": [
        "from google.colab import drive\n",
        "drive.mount('/content/drive')"
      ],
      "metadata": {
        "colab": {
          "base_uri": "https://localhost:8080/"
        },
        "id": "kVr98IsiBVEd",
        "outputId": "4cea7397-6676-48de-83d4-d65313cd6290"
      },
      "execution_count": null,
      "outputs": [
        {
          "output_type": "stream",
          "name": "stdout",
          "text": [
            "Drive already mounted at /content/drive; to attempt to forcibly remount, call drive.mount(\"/content/drive\", force_remount=True).\n"
          ]
        }
      ]
    },
    {
      "cell_type": "code",
      "source": [
        "data = pd.read_excel(path)"
      ],
      "metadata": {
        "id": "s8viySnWBbvV"
      },
      "execution_count": null,
      "outputs": []
    },
    {
      "cell_type": "code",
      "source": [
        "data.columns"
      ],
      "metadata": {
        "colab": {
          "base_uri": "https://localhost:8080/"
        },
        "id": "mqDWYehgBh-l",
        "outputId": "3674856b-db68-4c89-d31f-71cc26672956"
      },
      "execution_count": null,
      "outputs": [
        {
          "output_type": "execute_result",
          "data": {
            "text/plain": [
              "Index(['Fecha de inicio', 'Fecha de finalización', 'Tipo de respuesta',\n",
              "       'Dirección IP', 'Progreso', 'Duración (en segundos)', 'Finalizado',\n",
              "       'Fecha registrada', 'ID de respuesta', 'Apellido del destinatario',\n",
              "       'Nombre del destinatario', 'Referencia a datos externos',\n",
              "       'Latitud de la ubicación', 'Longitud de la ubicación',\n",
              "       'Canal de la distribución', 'Idioma del usuario',\n",
              "       '¿Has oído hablar de los fondos comunes de inversión (FCI)? Es un producto nuevo que paga un interés por cualquier dinero depositado.',\n",
              "       '¿Por qué no operas con ellos?',\n",
              "       'Si tuvieras que adivinar, ¿Cuál crees que es la tasa de interés que pagan los fondos comunes de inversión durante un mes? Proporcione una respuesta en %, por ejemplo, 5 significa que cree que los fondos comunes de inversión pagan un interés del 5% durante un mes, 10 significa que cree que el interés es del 10% por mes.',\n",
              "       '¿Te interesaría saber más sobre los beneficios de usar los fondos comunes de inversión?',\n",
              "       '¿Te gustaría recibir novedades sobre fondos comunes de inversión del Banco Ciudad por correo electrónico o app?',\n",
              "       'Email', 'CUIT', 'Grupo'],\n",
              "      dtype='object')"
            ]
          },
          "metadata": {},
          "execution_count": 6
        }
      ]
    },
    {
      "cell_type": "code",
      "source": [
        "sentiment = sentiment_analysis.SentimentAnalysisSpanish()\n",
        "print(sentiment.sentiment(\"No me interesa\"))"
      ],
      "metadata": {
        "id": "Z933mNZYbQ-q",
        "colab": {
          "base_uri": "https://localhost:8080/"
        },
        "outputId": "2bc6e7a4-8643-49da-8694-96e99d4738d3"
      },
      "execution_count": null,
      "outputs": [
        {
          "output_type": "stream",
          "name": "stdout",
          "text": [
            "0.058553252288677915\n"
          ]
        },
        {
          "output_type": "stream",
          "name": "stderr",
          "text": [
            "/usr/local/lib/python3.10/dist-packages/sklearn/base.py:318: UserWarning: Trying to unpickle estimator CountVectorizer from version 0.23.2 when using version 1.2.2. This might lead to breaking code or invalid results. Use at your own risk. For more info please refer to:\n",
            "https://scikit-learn.org/stable/model_persistence.html#security-maintainability-limitations\n",
            "  warnings.warn(\n",
            "/usr/local/lib/python3.10/dist-packages/sklearn/base.py:318: UserWarning: Trying to unpickle estimator MultinomialNB from version 0.23.2 when using version 1.2.2. This might lead to breaking code or invalid results. Use at your own risk. For more info please refer to:\n",
            "https://scikit-learn.org/stable/model_persistence.html#security-maintainability-limitations\n",
            "  warnings.warn(\n"
          ]
        }
      ]
    },
    {
      "cell_type": "code",
      "source": [
        "sentiment = sentiment_analysis.SentimentAnalysisSpanish()\n",
        "print(sentiment.sentiment(\"Terriblo esto que me decis\"))"
      ],
      "metadata": {
        "id": "agPR2JJ_busz",
        "colab": {
          "base_uri": "https://localhost:8080/"
        },
        "outputId": "af8a1f25-2ab8-49e3-fb87-52be332e68f1"
      },
      "execution_count": null,
      "outputs": [
        {
          "output_type": "stream",
          "name": "stdout",
          "text": [
            "0.03676428138872851\n"
          ]
        }
      ]
    },
    {
      "cell_type": "code",
      "source": [
        "sentiment = sentiment_analysis.SentimentAnalysisSpanish()\n",
        "print(sentiment.sentiment(\"Esta muy bueno!!!!\"))"
      ],
      "metadata": {
        "id": "wf-ps05w98vl",
        "colab": {
          "base_uri": "https://localhost:8080/"
        },
        "outputId": "f0b21304-5cf2-4ab0-8ddf-42aa24f6d2a7"
      },
      "execution_count": null,
      "outputs": [
        {
          "output_type": "stream",
          "name": "stdout",
          "text": [
            "0.9788432239570454\n"
          ]
        }
      ]
    },
    {
      "cell_type": "code",
      "source": [
        "from tqdm.notebook import tqdm"
      ],
      "metadata": {
        "id": "ylv7Xegn_Is3"
      },
      "execution_count": null,
      "outputs": []
    },
    {
      "cell_type": "code",
      "source": [
        "# Eliminar filas con valores NaN en la columna '¿Por qué no operas con ellos?'\n",
        "data = data.dropna(subset=['¿Por qué no operas con ellos?'])"
      ],
      "metadata": {
        "id": "sHqRF4iyDB6d"
      },
      "execution_count": null,
      "outputs": []
    },
    {
      "cell_type": "code",
      "source": [
        "res= {}\n",
        "for i,row in tqdm(data.iterrows(), total=len(data)):\n",
        "    text= row['¿Por qué no operas con ellos?']\n",
        "    myid = row['ID de respuesta']\n",
        "    res[myid] = sentiment.sentiment(text)\n"
      ],
      "metadata": {
        "colab": {
          "base_uri": "https://localhost:8080/",
          "height": 49,
          "referenced_widgets": [
            "eb60e2d16201498f8f54f31ad570792c",
            "938b028bb9fe483bb2483b41420af381",
            "0939fc9b8fd94e3eaa85d1c92b1484ea",
            "1303bfba3e4942f4a04c4c01893deb0a",
            "4cdbcb103e064ecba055b50dfc1f80ac",
            "a461ea7dba1e41f7b4ed459297529e29",
            "e13ee668613742058611b362f2a3f740",
            "b37057d49069430cbb424b513c3b91b3",
            "ad8b17a831ae41b89f027ac05587441c",
            "3712a3af428c46e29798080200328d65",
            "e66c61627a65439a99f5ffeb52542922"
          ]
        },
        "id": "koZD4bnY2dju",
        "outputId": "d3482ba6-345d-447d-f4fa-fc57421793fa"
      },
      "execution_count": null,
      "outputs": [
        {
          "output_type": "display_data",
          "data": {
            "text/plain": [
              "  0%|          | 0/943 [00:00<?, ?it/s]"
            ],
            "application/vnd.jupyter.widget-view+json": {
              "version_major": 2,
              "version_minor": 0,
              "model_id": "eb60e2d16201498f8f54f31ad570792c"
            }
          },
          "metadata": {}
        }
      ]
    },
    {
      "cell_type": "code",
      "source": [
        "df = pd.DataFrame(res, index=[0]).T"
      ],
      "metadata": {
        "id": "NFE_Sp839xFr"
      },
      "execution_count": null,
      "outputs": []
    },
    {
      "cell_type": "code",
      "source": [
        "df.columns"
      ],
      "metadata": {
        "colab": {
          "base_uri": "https://localhost:8080/"
        },
        "id": "m9fNgM8PNP9e",
        "outputId": "cd864c16-6a38-49ce-8003-a38cf32a6597"
      },
      "execution_count": null,
      "outputs": [
        {
          "output_type": "execute_result",
          "data": {
            "text/plain": [
              "Int64Index([0], dtype='int64')"
            ]
          },
          "metadata": {},
          "execution_count": 14
        }
      ]
    },
    {
      "cell_type": "code",
      "source": [
        "df = df.rename(columns={0:\"Score\"})"
      ],
      "metadata": {
        "id": "pU2V8lR2EMQw"
      },
      "execution_count": null,
      "outputs": []
    },
    {
      "cell_type": "code",
      "source": [
        "df['ID de respuesta'] = df.index"
      ],
      "metadata": {
        "id": "LMz0SPj3MLRa"
      },
      "execution_count": null,
      "outputs": []
    },
    {
      "cell_type": "code",
      "source": [
        "# Define una función para asignar el sentimiento\n",
        "def asignar_sentimiento(score):\n",
        "    if score <= 0.33:\n",
        "        return 'NEG'\n",
        "    elif score <= 0.66:\n",
        "        return 'NEU'\n",
        "    else:\n",
        "        return 'POS'\n",
        "\n",
        "# Aplica la función a la columna \"0\" para crear una nueva columna \"sentimiento\"\n",
        "df['Sentimiento'] = df['Score'].apply(asignar_sentimiento)\n",
        "\n",
        "print(df)"
      ],
      "metadata": {
        "colab": {
          "base_uri": "https://localhost:8080/"
        },
        "id": "chXhyXrdEDjj",
        "outputId": "8891e72f-29c5-4d66-d2c3-abab6ad54617"
      },
      "execution_count": null,
      "outputs": [
        {
          "output_type": "stream",
          "name": "stdout",
          "text": [
            "                      Score    ID de respuesta Sentimiento\n",
            "R_65qmqFFZQdGBk3v  0.092355  R_65qmqFFZQdGBk3v         NEG\n",
            "R_30Ggjc9CXln0Dqq  0.497892  R_30Ggjc9CXln0Dqq         NEU\n",
            "R_7zVrScUt5O3vUNb  0.211824  R_7zVrScUt5O3vUNb         NEG\n",
            "R_61YNdP6kw8Te0ad  0.058553  R_61YNdP6kw8Te0ad         NEG\n",
            "R_12g7JIM35th9lzu  0.103353  R_12g7JIM35th9lzu         NEG\n",
            "...                     ...                ...         ...\n",
            "R_6n8JPWCh2f4R9aF  0.058553  R_6n8JPWCh2f4R9aF         NEG\n",
            "R_5M5StBPpyeW75K5  0.030490  R_5M5StBPpyeW75K5         NEG\n",
            "R_1HkhZq7h0LoU3Nn  0.000022  R_1HkhZq7h0LoU3Nn         NEG\n",
            "R_3gFwgIn9WjMNMiA  0.000012  R_3gFwgIn9WjMNMiA         NEG\n",
            "R_7dosAshYzj8U0hX  0.020328  R_7dosAshYzj8U0hX         NEG\n",
            "\n",
            "[943 rows x 3 columns]\n"
          ]
        }
      ]
    },
    {
      "cell_type": "code",
      "source": [
        "df = df.reset_index()"
      ],
      "metadata": {
        "id": "Bgm_J2JjFkU-"
      },
      "execution_count": null,
      "outputs": []
    },
    {
      "cell_type": "code",
      "source": [
        "print(df)"
      ],
      "metadata": {
        "colab": {
          "base_uri": "https://localhost:8080/"
        },
        "id": "FCGqkJPvF3vY",
        "outputId": "4c01a9ad-6784-4ad2-d92b-1980d624d513"
      },
      "execution_count": null,
      "outputs": [
        {
          "output_type": "stream",
          "name": "stdout",
          "text": [
            "                 index     Score    ID de respuesta Sentimiento\n",
            "0    R_65qmqFFZQdGBk3v  0.092355  R_65qmqFFZQdGBk3v         NEG\n",
            "1    R_30Ggjc9CXln0Dqq  0.497892  R_30Ggjc9CXln0Dqq         NEU\n",
            "2    R_7zVrScUt5O3vUNb  0.211824  R_7zVrScUt5O3vUNb         NEG\n",
            "3    R_61YNdP6kw8Te0ad  0.058553  R_61YNdP6kw8Te0ad         NEG\n",
            "4    R_12g7JIM35th9lzu  0.103353  R_12g7JIM35th9lzu         NEG\n",
            "..                 ...       ...                ...         ...\n",
            "938  R_6n8JPWCh2f4R9aF  0.058553  R_6n8JPWCh2f4R9aF         NEG\n",
            "939  R_5M5StBPpyeW75K5  0.030490  R_5M5StBPpyeW75K5         NEG\n",
            "940  R_1HkhZq7h0LoU3Nn  0.000022  R_1HkhZq7h0LoU3Nn         NEG\n",
            "941  R_3gFwgIn9WjMNMiA  0.000012  R_3gFwgIn9WjMNMiA         NEG\n",
            "942  R_7dosAshYzj8U0hX  0.020328  R_7dosAshYzj8U0hX         NEG\n",
            "\n",
            "[943 rows x 4 columns]\n"
          ]
        }
      ]
    },
    {
      "cell_type": "code",
      "source": [
        "df = df.drop(columns=\"index\")"
      ],
      "metadata": {
        "id": "bRpQRccPNga4"
      },
      "execution_count": null,
      "outputs": []
    },
    {
      "cell_type": "code",
      "source": [
        "import matplotlib.pyplot as plt\n",
        "\n",
        "# Contar el número de filas para cada categoría de sentimiento\n",
        "sentimiento_counts = df['Sentimiento'].value_counts()\n",
        "\n",
        "# Crear un histograma de sentimientos\n",
        "sentimiento_counts.plot(kind='bar', color=['green', 'gray', 'red'])\n",
        "plt.xlabel('Sentimiento')\n",
        "plt.ylabel('Número de Filas')\n",
        "plt.title('Distribución de Sentimientos')\n",
        "plt.xticks(rotation=0)\n",
        "plt.show()"
      ],
      "metadata": {
        "colab": {
          "base_uri": "https://localhost:8080/",
          "height": 472
        },
        "id": "GB8nc2goIx13",
        "outputId": "4ccbdf3e-b17b-49cf-e2a5-0f40217ddc92"
      },
      "execution_count": null,
      "outputs": [
        {
          "output_type": "display_data",
          "data": {
            "text/plain": [
              "<Figure size 640x480 with 1 Axes>"
            ],
            "image/png": "[encoded data removed]"
          },
          "metadata": {}
        }
      ]
    },
    {
      "cell_type": "code",
      "source": [
        "# Crear un gráfico de torta de sentimientos\n",
        "sentimiento_counts.plot(kind='pie', autopct='%1.1f%%', colors=['green', 'gray', 'red'])\n",
        "plt.ylabel('')\n",
        "plt.title('Proporción de Sentimientos')\n",
        "plt.show()"
      ],
      "metadata": {
        "colab": {
          "base_uri": "https://localhost:8080/",
          "height": 429
        },
        "id": "fMaDjJyRJOw6",
        "outputId": "2d4a92b2-23a3-4b0e-a3a4-d3f67bfe233b"
      },
      "execution_count": null,
      "outputs": [
        {
          "output_type": "display_data",
          "data": {
            "text/plain": [
              "<Figure size 640x480 with 1 Axes>"
            ],
            "image/png": "[encoded data removed]"
          },
          "metadata": {}
        }
      ]
    },
    {
      "cell_type": "code",
      "source": [
        "# Crear un gráfico de caja de puntajes por sentimiento\n",
        "plt.figure(figsize=(8, 6))\n",
        "df.boxplot(column='Score', by='Sentimiento', grid=False, notch=True, patch_artist=True, showmeans=True)\n",
        "plt.title('Distribución de Puntajes por Sentimiento')\n",
        "plt.xlabel('Sentimiento')\n",
        "plt.ylabel('Puntaje')\n",
        "plt.suptitle('')\n",
        "plt.show()"
      ],
      "metadata": {
        "colab": {
          "base_uri": "https://localhost:8080/",
          "height": 481
        },
        "id": "gHgWkyvLJZSf",
        "outputId": "ad3efa52-0091-4468-e42e-a3c41309c637"
      },
      "execution_count": null,
      "outputs": [
        {
          "output_type": "display_data",
          "data": {
            "text/plain": [
              "<Figure size 800x600 with 0 Axes>"
            ]
          },
          "metadata": {}
        },
        {
          "output_type": "display_data",
          "data": {
            "text/plain": [
              "<Figure size 640x480 with 1 Axes>"
            ],
            "image/png": "[encoded data removed]"
          },
          "metadata": {}
        }
      ]
    },
    {
      "cell_type": "code",
      "source": [
        "merge = pd.merge(data,df,how=\"left\", on=\"ID de respuesta\", indicator=True)"
      ],
      "metadata": {
        "id": "WmID_zhIJg2h"
      },
      "execution_count": null,
      "outputs": []
    },
    {
      "cell_type": "code",
      "source": [
        "merge.groupby(by=\"_merge\").size()"
      ],
      "metadata": {
        "colab": {
          "base_uri": "https://localhost:8080/"
        },
        "id": "gwvQ5EgvOcR5",
        "outputId": "c0903cc0-e63a-483c-c0d4-e2f172a2eb8d"
      },
      "execution_count": null,
      "outputs": [
        {
          "output_type": "execute_result",
          "data": {
            "text/plain": [
              "_merge\n",
              "left_only       0\n",
              "right_only      0\n",
              "both          943\n",
              "dtype: int64"
            ]
          },
          "metadata": {},
          "execution_count": 25
        }
      ]
    },
    {
      "cell_type": "code",
      "source": [
        "print(merge)"
      ],
      "metadata": {
        "colab": {
          "base_uri": "https://localhost:8080/"
        },
        "id": "2pV-ZnfxOids",
        "outputId": "0d6a53da-36b0-43e5-f1f3-3d32810d422b"
      },
      "execution_count": null,
      "outputs": [
        {
          "output_type": "stream",
          "name": "stdout",
          "text": [
            "        Fecha de inicio Fecha de finalización Tipo de respuesta  \\\n",
            "0   2024-01-17 12:09:21   2024-01-17 12:10:24        IP Address   \n",
            "1   2024-01-17 12:10:15   2024-01-17 12:12:33        IP Address   \n",
            "2   2024-01-17 12:12:37   2024-01-17 12:14:52        IP Address   \n",
            "3   2024-01-17 12:14:42   2024-01-17 12:15:36        IP Address   \n",
            "4   2024-01-17 12:15:25   2024-01-17 12:17:02        IP Address   \n",
            "..                  ...                   ...               ...   \n",
            "938 2024-01-23 17:25:21   2024-01-23 17:26:02        IP Address   \n",
            "939 2024-01-24 17:41:01   2024-01-24 17:42:43        IP Address   \n",
            "940 2024-01-24 19:38:56   2024-01-24 19:40:42        IP Address   \n",
            "941 2024-01-24 19:45:16   2024-01-24 19:46:16        IP Address   \n",
            "942 2024-01-25 11:43:29   2024-01-25 11:45:09        IP Address   \n",
            "\n",
            "        Dirección IP  Progreso  Duración (en segundos)  Finalizado  \\\n",
            "0    186.141.199.189       100                      63        True   \n",
            "1     170.51.135.154       100                     137        True   \n",
            "2    186.141.133.129       100                     134        True   \n",
            "3       176.80.80.21       100                      54        True   \n",
            "4      186.12.44.202       100                      96        True   \n",
            "..               ...       ...                     ...         ...   \n",
            "938  181.229.118.191        40                      40       False   \n",
            "939    190.210.32.16       100                     102        True   \n",
            "940   190.210.32.147       100                     106        True   \n",
            "941     181.44.12.77       100                      60        True   \n",
            "942   201.219.65.202       100                      99        True   \n",
            "\n",
            "           Fecha registrada    ID de respuesta  Apellido del destinatario  \\\n",
            "0   2024-01-17 12:10:25.493  R_65qmqFFZQdGBk3v                        NaN   \n",
            "1   2024-01-17 12:12:34.273  R_30Ggjc9CXln0Dqq                        NaN   \n",
            "2   2024-01-17 12:14:52.679  R_7zVrScUt5O3vUNb                        NaN   \n",
            "3   2024-01-17 12:15:37.430  R_61YNdP6kw8Te0ad                        NaN   \n",
            "4   2024-01-17 12:17:03.193  R_12g7JIM35th9lzu                        NaN   \n",
            "..                      ...                ...                        ...   \n",
            "938 2024-01-24 17:26:07.117  R_6n8JPWCh2f4R9aF                        NaN   \n",
            "939 2024-01-24 17:42:44.075  R_5M5StBPpyeW75K5                        NaN   \n",
            "940 2024-01-24 19:40:43.367  R_1HkhZq7h0LoU3Nn                        NaN   \n",
            "941 2024-01-24 19:46:17.492  R_3gFwgIn9WjMNMiA                        NaN   \n",
            "942 2024-01-25 11:45:10.132  R_7dosAshYzj8U0hX                        NaN   \n",
            "\n",
            "     ...                      ¿Por qué no operas con ellos?  \\\n",
            "0    ...                            Tenemos en otros bsncos   \n",
            "1    ...                                              Ns nc   \n",
            "2    ...                                 Falta información    \n",
            "3    ...                                     No me interesa   \n",
            "4    ...                 Desconocía que el banco lo ofrecia   \n",
            "..   ...                                                ...   \n",
            "938  ...                                    No me interesa    \n",
            "939  ...                         no tengo dinero disponible   \n",
            "940  ...  Por no.poder ir a la.sucursl para tener la.cue...   \n",
            "941  ...            No sabía que los tienen no los vi nunca   \n",
            "942  ...                    aun no lo estudié lo suficiente   \n",
            "\n",
            "     Si tuvieras que adivinar, ¿Cuál crees que es la tasa de interés que pagan los fondos comunes de inversión durante un mes? Proporcione una respuesta en %, por ejemplo, 5 significa que cree que los fondos comunes de inversión pagan un interés del 5% durante un mes, 10 significa que cree que el interés es del 10% por mes.  \\\n",
            "0                                                 9.13                                                                                                                                                                                                                                                                                  \n",
            "1                                                   25                                                                                                                                                                                                                                                                                  \n",
            "2                                                    5                                                                                                                                                                                                                                                                                  \n",
            "3                                                   10                                                                                                                                                                                                                                                                                  \n",
            "4                                                    5                                                                                                                                                                                                                                                                                  \n",
            "..                                                 ...                                                                                                                                                                                                                                                                                  \n",
            "938                                                NaN                                                                                                                                                                                                                                                                                  \n",
            "939                                                 10                                                                                                                                                                                                                                                                                  \n",
            "940                                                 10                                                                                                                                                                                                                                                                                  \n",
            "941                                                  8                                                                                                                                                                                                                                                                                  \n",
            "942                                                 10                                                                                                                                                                                                                                                                                  \n",
            "\n",
            "     ¿Te interesaría saber más sobre los beneficios de usar los fondos comunes de inversión?  \\\n",
            "0                                                   Si                                         \n",
            "1                                                   No                                         \n",
            "2                                                   Si                                         \n",
            "3                                                   No                                         \n",
            "4                                                   Si                                         \n",
            "..                                                 ...                                         \n",
            "938                                                NaN                                         \n",
            "939                                                 No                                         \n",
            "940                                                 Si                                         \n",
            "941                                                 Si                                         \n",
            "942                                                 Si                                         \n",
            "\n",
            "     ¿Te gustaría recibir novedades sobre fondos comunes de inversión del Banco Ciudad por correo electrónico o app?  \\\n",
            "0                                                   Si                                                                 \n",
            "1                                                   No                                                                 \n",
            "2                                                   Si                                                                 \n",
            "3                                                   No                                                                 \n",
            "4                                                   Si                                                                 \n",
            "..                                                 ...                                                                 \n",
            "938                                                NaN                                                                 \n",
            "939                                                 No                                                                 \n",
            "940                                                 Si                                                                 \n",
            "941                                                 Si                                                                 \n",
            "942                                                 Si                                                                 \n",
            "\n",
            "    Email         CUIT        Grupo     Score Sentimiento _merge  \n",
            "0     NaN  20103635684  TRATAMIENTO  0.092355         NEG   both  \n",
            "1     NaN  27430870527      CONTROL  0.497892         NEU   both  \n",
            "2     NaN  20188226273  TRATAMIENTO  0.211824         NEG   both  \n",
            "3     NaN  20168914009      CONTROL  0.058553         NEG   both  \n",
            "4     NaN  20313205305      CONTROL  0.103353         NEG   both  \n",
            "..    ...          ...          ...       ...         ...    ...  \n",
            "938   NaN  20049896302      CONTROL  0.058553         NEG   both  \n",
            "939   NaN  27046334707      CONTROL  0.030490         NEG   both  \n",
            "940   NaN  27252520002  TRATAMIENTO  0.000022         NEG   both  \n",
            "941   NaN  27246281527  TRATAMIENTO  0.000012         NEG   both  \n",
            "942   NaN  20170345321      CONTROL  0.020328         NEG   both  \n",
            "\n",
            "[943 rows x 27 columns]\n"
          ]
        }
      ]
    },
    {
      "cell_type": "code",
      "source": [
        "merge.columns"
      ],
      "metadata": {
        "id": "tE7-gJ3kPyms",
        "colab": {
          "base_uri": "https://localhost:8080/"
        },
        "outputId": "2a8cfaae-a609-4873-f3be-6dc0a8a968d2"
      },
      "execution_count": null,
      "outputs": [
        {
          "output_type": "execute_result",
          "data": {
            "text/plain": [
              "Index(['Fecha de inicio', 'Fecha de finalización', 'Tipo de respuesta',\n",
              "       'Dirección IP', 'Progreso', 'Duración (en segundos)', 'Finalizado',\n",
              "       'Fecha registrada', 'ID de respuesta', 'Apellido del destinatario',\n",
              "       'Nombre del destinatario', 'Referencia a datos externos',\n",
              "       'Latitud de la ubicación', 'Longitud de la ubicación',\n",
              "       'Canal de la distribución', 'Idioma del usuario',\n",
              "       '¿Has oído hablar de los fondos comunes de inversión (FCI)? Es un producto nuevo que paga un interés por cualquier dinero depositado.',\n",
              "       '¿Por qué no operas con ellos?',\n",
              "       'Si tuvieras que adivinar, ¿Cuál crees que es la tasa de interés que pagan los fondos comunes de inversión durante un mes? Proporcione una respuesta en %, por ejemplo, 5 significa que cree que los fondos comunes de inversión pagan un interés del 5% durante un mes, 10 significa que cree que el interés es del 10% por mes.',\n",
              "       '¿Te interesaría saber más sobre los beneficios de usar los fondos comunes de inversión?',\n",
              "       '¿Te gustaría recibir novedades sobre fondos comunes de inversión del Banco Ciudad por correo electrónico o app?',\n",
              "       'Email', 'CUIT', 'Grupo', 'Score', 'Sentimiento', '_merge'],\n",
              "      dtype='object')"
            ]
          },
          "metadata": {},
          "execution_count": 27
        }
      ]
    },
    {
      "cell_type": "markdown",
      "source": [
        "Contando con una columna con un puntaje o valoracion, puedo hacer el cruce con el sentimiento analizado"
      ],
      "metadata": {
        "id": "HN4BB496RZ3u"
      }
    },
    {
      "cell_type": "code",
      "source": [
        "df"
      ],
      "metadata": {
        "colab": {
          "base_uri": "https://localhost:8080/",
          "height": 423
        },
        "id": "bEhaptPCSLEr",
        "outputId": "b0eb3a82-1a31-4dd0-bf82-eb4889a4a5f8"
      },
      "execution_count": null,
      "outputs": [
        {
          "output_type": "execute_result",
          "data": {
            "text/plain": [
              "        Score    ID de respuesta Sentimiento\n",
              "0    0.092355  R_65qmqFFZQdGBk3v         NEG\n",
              "1    0.497892  R_30Ggjc9CXln0Dqq         NEU\n",
              "2    0.211824  R_7zVrScUt5O3vUNb         NEG\n",
              "3    0.058553  R_61YNdP6kw8Te0ad         NEG\n",
              "4    0.103353  R_12g7JIM35th9lzu         NEG\n",
              "..        ...                ...         ...\n",
              "938  0.058553  R_6n8JPWCh2f4R9aF         NEG\n",
              "939  0.030490  R_5M5StBPpyeW75K5         NEG\n",
              "940  0.000022  R_1HkhZq7h0LoU3Nn         NEG\n",
              "941  0.000012  R_3gFwgIn9WjMNMiA         NEG\n",
              "942  0.020328  R_7dosAshYzj8U0hX         NEG\n",
              "\n",
              "[943 rows x 3 columns]"
            ],
            "text/html": [
              "\n",
              "  <div id=\"df-f7df4309-6829-4bfd-89f6-51dca259bf05\" class=\"colab-df-container\">\n",
              "    <div>\n",
              "<style scoped>\n",
              "    .dataframe tbody tr th:only-of-type {\n",
              "        vertical-align: middle;\n",
              "    }\n",
              "\n",
              "    .dataframe tbody tr th {\n",
              "        vertical-align: top;\n",
              "    }\n",
              "\n",
              "    .dataframe thead th {\n",
              "        text-align: right;\n",
              "    }\n",
              "</style>\n",
              "<table border=\"1\" class=\"dataframe\">\n",
              "  <thead>\n",
              "    <tr style=\"text-align: right;\">\n",
              "      <th></th>\n",
              "      <th>Score</th>\n",
              "      <th>ID de respuesta</th>\n",
              "      <th>Sentimiento</th>\n",
              "    </tr>\n",
              "  </thead>\n",
              "  <tbody>\n",
              "    <tr>\n",
              "      <th>0</th>\n",
              "      <td>0.092355</td>\n",
              "      <td>R_65qmqFFZQdGBk3v</td>\n",
              "      <td>NEG</td>\n",
              "    </tr>\n",
              "    <tr>\n",
              "      <th>1</th>\n",
              "      <td>0.497892</td>\n",
              "      <td>R_30Ggjc9CXln0Dqq</td>\n",
              "      <td>NEU</td>\n",
              "    </tr>\n",
              "    <tr>\n",
              "      <th>2</th>\n",
              "      <td>0.211824</td>\n",
              "      <td>R_7zVrScUt5O3vUNb</td>\n",
              "      <td>NEG</td>\n",
              "    </tr>\n",
              "    <tr>\n",
              "      <th>3</th>\n",
              "      <td>0.058553</td>\n",
              "      <td>R_61YNdP6kw8Te0ad</td>\n",
              "      <td>NEG</td>\n",
              "    </tr>\n",
              "    <tr>\n",
              "      <th>4</th>\n",
              "      <td>0.103353</td>\n",
              "      <td>R_12g7JIM35th9lzu</td>\n",
              "      <td>NEG</td>\n",
              "    </tr>\n",
              "    <tr>\n",
              "      <th>...</th>\n",
              "      <td>...</td>\n",
              "      <td>...</td>\n",
              "      <td>...</td>\n",
              "    </tr>\n",
              "    <tr>\n",
              "      <th>938</th>\n",
              "      <td>0.058553</td>\n",
              "      <td>R_6n8JPWCh2f4R9aF</td>\n",
              "      <td>NEG</td>\n",
              "    </tr>\n",
              "    <tr>\n",
              "      <th>939</th>\n",
              "      <td>0.030490</td>\n",
              "      <td>R_5M5StBPpyeW75K5</td>\n",
              "      <td>NEG</td>\n",
              "    </tr>\n",
              "    <tr>\n",
              "      <th>940</th>\n",
              "      <td>0.000022</td>\n",
              "      <td>R_1HkhZq7h0LoU3Nn</td>\n",
              "      <td>NEG</td>\n",
              "    </tr>\n",
              "    <tr>\n",
              "      <th>941</th>\n",
              "      <td>0.000012</td>\n",
              "      <td>R_3gFwgIn9WjMNMiA</td>\n",
              "      <td>NEG</td>\n",
              "    </tr>\n",
              "    <tr>\n",
              "      <th>942</th>\n",
              "      <td>0.020328</td>\n",
              "      <td>R_7dosAshYzj8U0hX</td>\n",
              "      <td>NEG</td>\n",
              "    </tr>\n",
              "  </tbody>\n",
              "</table>\n",
              "<p>943 rows × 3 columns</p>\n",
              "</div>\n",
              "    <div class=\"colab-df-buttons\">\n",
              "\n",
              "  <div class=\"colab-df-container\">\n",
              "    <button class=\"colab-df-convert\" onclick=\"convertToInteractive('df-f7df4309-6829-4bfd-89f6-51dca259bf05')\"\n",
              "            title=\"Convert this dataframe to an interactive table.\"\n",
              "            style=\"display:none;\">\n",
              "\n",
              "  <svg xmlns=\"http://www.w3.org/2000/svg\" height=\"24px\" viewBox=\"0 -960 960 960\">\n",
              "    <path d=\"M120-120v-720h720v720H120Zm60-500h600v-160H180v160Zm220 220h160v-160H400v160Zm0 220h160v-160H400v160ZM180-400h160v-160H180v160Zm440 0h160v-160H620v160ZM180-180h160v-160H180v160Zm440 0h160v-160H620v160Z\"/>\n",
              "  </svg>\n",
              "    </button>\n",
              "\n",
              "  <style>\n",
              "    .colab-df-container {\n",
              "      display:flex;\n",
              "      gap: 12px;\n",
              "    }\n",
              "\n",
              "    .colab-df-convert {\n",
              "      background-color: #E8F0FE;\n",
              "      border: none;\n",
              "      border-radius: 50%;\n",
              "      cursor: pointer;\n",
              "      display: none;\n",
              "      fill: #1967D2;\n",
              "      height: 32px;\n",
              "      padding: 0 0 0 0;\n",
              "      width: 32px;\n",
              "    }\n",
              "\n",
              "    .colab-df-convert:hover {\n",
              "      background-color: #E2EBFA;\n",
              "      box-shadow: 0px 1px 2px rgba(60, 64, 67, 0.3), 0px 1px 3px 1px rgba(60, 64, 67, 0.15);\n",
              "      fill: #174EA6;\n",
              "    }\n",
              "\n",
              "    .colab-df-buttons div {\n",
              "      margin-bottom: 4px;\n",
              "    }\n",
              "\n",
              "    [theme=dark] .colab-df-convert {\n",
              "      background-color: #3B4455;\n",
              "      fill: #D2E3FC;\n",
              "    }\n",
              "\n",
              "    [theme=dark] .colab-df-convert:hover {\n",
              "      background-color: #434B5C;\n",
              "      box-shadow: 0px 1px 3px 1px rgba(0, 0, 0, 0.15);\n",
              "      filter: drop-shadow(0px 1px 2px rgba(0, 0, 0, 0.3));\n",
              "      fill: #FFFFFF;\n",
              "    }\n",
              "  </style>\n",
              "\n",
              "    <script>\n",
              "      const buttonEl =\n",
              "        document.querySelector('#df-f7df4309-6829-4bfd-89f6-51dca259bf05 button.colab-df-convert');\n",
              "      buttonEl.style.display =\n",
              "        google.colab.kernel.accessAllowed ? 'block' : 'none';\n",
              "\n",
              "      async function convertToInteractive(key) {\n",
              "        const element = document.querySelector('#df-f7df4309-6829-4bfd-89f6-51dca259bf05');\n",
              "        const dataTable =\n",
              "          await google.colab.kernel.invokeFunction('convertToInteractive',\n",
              "                                                    [key], {});\n",
              "        if (!dataTable) return;\n",
              "\n",
              "        const docLinkHtml = 'Like what you see? Visit the ' +\n",
              "          '<a target=\"_blank\" href=https://colab.research.google.com/notebooks/data_table.ipynb>data table notebook</a>'\n",
              "          + ' to learn more about interactive tables.';\n",
              "        element.innerHTML = '';\n",
              "        dataTable['output_type'] = 'display_data';\n",
              "        await google.colab.output.renderOutput(dataTable, element);\n",
              "        const docLink = document.createElement('div');\n",
              "        docLink.innerHTML = docLinkHtml;\n",
              "        element.appendChild(docLink);\n",
              "      }\n",
              "    </script>\n",
              "  </div>\n",
              "\n",
              "\n",
              "<div id=\"df-2c74e7ff-6de2-44dc-871b-058f9f3395b4\">\n",
              "  <button class=\"colab-df-quickchart\" onclick=\"quickchart('df-2c74e7ff-6de2-44dc-871b-058f9f3395b4')\"\n",
              "            title=\"Suggest charts\"\n",
              "            style=\"display:none;\">\n",
              "\n",
              "<svg xmlns=\"http://www.w3.org/2000/svg\" height=\"24px\"viewBox=\"0 0 24 24\"\n",
              "     width=\"24px\">\n",
              "    <g>\n",
              "        <path d=\"M19 3H5c-1.1 0-2 .9-2 2v14c0 1.1.9 2 2 2h14c1.1 0 2-.9 2-2V5c0-1.1-.9-2-2-2zM9 17H7v-7h2v7zm4 0h-2V7h2v10zm4 0h-2v-4h2v4z\"/>\n",
              "    </g>\n",
              "</svg>\n",
              "  </button>\n",
              "\n",
              "<style>\n",
              "  .colab-df-quickchart {\n",
              "      --bg-color: #E8F0FE;\n",
              "      --fill-color: #1967D2;\n",
              "      --hover-bg-color: #E2EBFA;\n",
              "      --hover-fill-color: #174EA6;\n",
              "      --disabled-fill-color: #AAA;\n",
              "      --disabled-bg-color: #DDD;\n",
              "  }\n",
              "\n",
              "  [theme=dark] .colab-df-quickchart {\n",
              "      --bg-color: #3B4455;\n",
              "      --fill-color: #D2E3FC;\n",
              "      --hover-bg-color: #434B5C;\n",
              "      --hover-fill-color: #FFFFFF;\n",
              "      --disabled-bg-color: #3B4455;\n",
              "      --disabled-fill-color: #666;\n",
              "  }\n",
              "\n",
              "  .colab-df-quickchart {\n",
              "    background-color: var(--bg-color);\n",
              "    border: none;\n",
              "    border-radius: 50%;\n",
              "    cursor: pointer;\n",
              "    display: none;\n",
              "    fill: var(--fill-color);\n",
              "    height: 32px;\n",
              "    padding: 0;\n",
              "    width: 32px;\n",
              "  }\n",
              "\n",
              "  .colab-df-quickchart:hover {\n",
              "    background-color: var(--hover-bg-color);\n",
              "    box-shadow: 0 1px 2px rgba(60, 64, 67, 0.3), 0 1px 3px 1px rgba(60, 64, 67, 0.15);\n",
              "    fill: var(--button-hover-fill-color);\n",
              "  }\n",
              "\n",
              "  .colab-df-quickchart-complete:disabled,\n",
              "  .colab-df-quickchart-complete:disabled:hover {\n",
              "    background-color: var(--disabled-bg-color);\n",
              "    fill: var(--disabled-fill-color);\n",
              "    box-shadow: none;\n",
              "  }\n",
              "\n",
              "  .colab-df-spinner {\n",
              "    border: 2px solid var(--fill-color);\n",
              "    border-color: transparent;\n",
              "    border-bottom-color: var(--fill-color);\n",
              "    animation:\n",
              "      spin 1s steps(1) infinite;\n",
              "  }\n",
              "\n",
              "  @keyframes spin {\n",
              "    0% {\n",
              "      border-color: transparent;\n",
              "      border-bottom-color: var(--fill-color);\n",
              "      border-left-color: var(--fill-color);\n",
              "    }\n",
              "    20% {\n",
              "      border-color: transparent;\n",
              "      border-left-color: var(--fill-color);\n",
              "      border-top-color: var(--fill-color);\n",
              "    }\n",
              "    30% {\n",
              "      border-color: transparent;\n",
              "      border-left-color: var(--fill-color);\n",
              "      border-top-color: var(--fill-color);\n",
              "      border-right-color: var(--fill-color);\n",
              "    }\n",
              "    40% {\n",
              "      border-color: transparent;\n",
              "      border-right-color: var(--fill-color);\n",
              "      border-top-color: var(--fill-color);\n",
              "    }\n",
              "    60% {\n",
              "      border-color: transparent;\n",
              "      border-right-color: var(--fill-color);\n",
              "    }\n",
              "    80% {\n",
              "      border-color: transparent;\n",
              "      border-right-color: var(--fill-color);\n",
              "      border-bottom-color: var(--fill-color);\n",
              "    }\n",
              "    90% {\n",
              "      border-color: transparent;\n",
              "      border-bottom-color: var(--fill-color);\n",
              "    }\n",
              "  }\n",
              "</style>\n",
              "\n",
              "  <script>\n",
              "    async function quickchart(key) {\n",
              "      const quickchartButtonEl =\n",
              "        document.querySelector('#' + key + ' button');\n",
              "      quickchartButtonEl.disabled = true;  // To prevent multiple clicks.\n",
              "      quickchartButtonEl.classList.add('colab-df-spinner');\n",
              "      try {\n",
              "        const charts = await google.colab.kernel.invokeFunction(\n",
              "            'suggestCharts', [key], {});\n",
              "      } catch (error) {\n",
              "        console.error('Error during call to suggestCharts:', error);\n",
              "      }\n",
              "      quickchartButtonEl.classList.remove('colab-df-spinner');\n",
              "      quickchartButtonEl.classList.add('colab-df-quickchart-complete');\n",
              "    }\n",
              "    (() => {\n",
              "      let quickchartButtonEl =\n",
              "        document.querySelector('#df-2c74e7ff-6de2-44dc-871b-058f9f3395b4 button');\n",
              "      quickchartButtonEl.style.display =\n",
              "        google.colab.kernel.accessAllowed ? 'block' : 'none';\n",
              "    })();\n",
              "  </script>\n",
              "</div>\n",
              "\n",
              "  <div id=\"id_126d8f7a-3062-4c07-b4fc-ef07d8b3bccb\">\n",
              "    <style>\n",
              "      .colab-df-generate {\n",
              "        background-color: #E8F0FE;\n",
              "        border: none;\n",
              "        border-radius: 50%;\n",
              "        cursor: pointer;\n",
              "        display: none;\n",
              "        fill: #1967D2;\n",
              "        height: 32px;\n",
              "        padding: 0 0 0 0;\n",
              "        width: 32px;\n",
              "      }\n",
              "\n",
              "      .colab-df-generate:hover {\n",
              "        background-color: #E2EBFA;\n",
              "        box-shadow: 0px 1px 2px rgba(60, 64, 67, 0.3), 0px 1px 3px 1px rgba(60, 64, 67, 0.15);\n",
              "        fill: #174EA6;\n",
              "      }\n",
              "\n",
              "      [theme=dark] .colab-df-generate {\n",
              "        background-color: #3B4455;\n",
              "        fill: #D2E3FC;\n",
              "      }\n",
              "\n",
              "      [theme=dark] .colab-df-generate:hover {\n",
              "        background-color: #434B5C;\n",
              "        box-shadow: 0px 1px 3px 1px rgba(0, 0, 0, 0.15);\n",
              "        filter: drop-shadow(0px 1px 2px rgba(0, 0, 0, 0.3));\n",
              "        fill: #FFFFFF;\n",
              "      }\n",
              "    </style>\n",
              "    <button class=\"colab-df-generate\" onclick=\"generateWithVariable('df')\"\n",
              "            title=\"Generate code using this dataframe.\"\n",
              "            style=\"display:none;\">\n",
              "\n",
              "  <svg xmlns=\"http://www.w3.org/2000/svg\" height=\"24px\"viewBox=\"0 0 24 24\"\n",
              "       width=\"24px\">\n",
              "    <path d=\"M7,19H8.4L18.45,9,17,7.55,7,17.6ZM5,21V16.75L18.45,3.32a2,2,0,0,1,2.83,0l1.4,1.43a1.91,1.91,0,0,1,.58,1.4,1.91,1.91,0,0,1-.58,1.4L9.25,21ZM18.45,9,17,7.55Zm-12,3A5.31,5.31,0,0,0,4.9,8.1,5.31,5.31,0,0,0,1,6.5,5.31,5.31,0,0,0,4.9,4.9,5.31,5.31,0,0,0,6.5,1,5.31,5.31,0,0,0,8.1,4.9,5.31,5.31,0,0,0,12,6.5,5.46,5.46,0,0,0,6.5,12Z\"/>\n",
              "  </svg>\n",
              "    </button>\n",
              "    <script>\n",
              "      (() => {\n",
              "      const buttonEl =\n",
              "        document.querySelector('#id_126d8f7a-3062-4c07-b4fc-ef07d8b3bccb button.colab-df-generate');\n",
              "      buttonEl.style.display =\n",
              "        google.colab.kernel.accessAllowed ? 'block' : 'none';\n",
              "\n",
              "      buttonEl.onclick = () => {\n",
              "        google.colab.notebook.generateWithVariable('df');\n",
              "      }\n",
              "      })();\n",
              "    </script>\n",
              "  </div>\n",
              "\n",
              "    </div>\n",
              "  </div>\n"
            ],
            "application/vnd.google.colaboratory.intrinsic+json": {
              "type": "dataframe",
              "variable_name": "df",
              "summary": "{\n  \"name\": \"df\",\n  \"rows\": 943,\n  \"fields\": [\n    {\n      \"column\": \"Score\",\n      \"properties\": {\n        \"dtype\": \"number\",\n        \"std\": 0.17075472915431433,\n        \"min\": 1.5124933345837063e-40,\n        \"max\": 0.9704717122274824,\n        \"num_unique_values\": 665,\n        \"samples\": [\n          0.8354696892702567,\n          0.03163234077206565,\n          0.00550787633689347\n        ],\n        \"semantic_type\": \"\",\n        \"description\": \"\"\n      }\n    },\n    {\n      \"column\": \"ID de respuesta\",\n      \"properties\": {\n        \"dtype\": \"string\",\n        \"num_unique_values\": 943,\n        \"samples\": [\n          \"R_5GDJFAylCbwMR6p\",\n          \"R_12b8DBIkKC6T3uk\",\n          \"R_6nC6uBtceAh7fH3\"\n        ],\n        \"semantic_type\": \"\",\n        \"description\": \"\"\n      }\n    },\n    {\n      \"column\": \"Sentimiento\",\n      \"properties\": {\n        \"dtype\": \"category\",\n        \"num_unique_values\": 3,\n        \"samples\": [\n          \"NEG\",\n          \"NEU\",\n          \"POS\"\n        ],\n        \"semantic_type\": \"\",\n        \"description\": \"\"\n      }\n    }\n  ]\n}"
            }
          },
          "metadata": {},
          "execution_count": 28
        }
      ]
    },
    {
      "source": [
        "from matplotlib import pyplot as plt\n",
        "import seaborn as sns\n",
        "figsize = (12, 1.2 * len(df['Sentimiento'].unique()))\n",
        "plt.figure(figsize=figsize)\n",
        "sns.violinplot(df, x='Score', y='Sentimiento', inner='box', palette='Dark2')\n",
        "sns.despine(top=True, right=True, bottom=True, left=True)"
      ],
      "cell_type": "code",
      "metadata": {
        "colab": {
          "base_uri": "https://localhost:8080/",
          "height": 448
        },
        "id": "SPmAUx2zTN8q",
        "outputId": "e2459017-af45-43a2-c647-bf892d933789"
      },
      "execution_count": null,
      "outputs": [
        {
          "output_type": "stream",
          "name": "stderr",
          "text": [
            "<ipython-input-29-99c9ee75574d>:5: FutureWarning: \n",
            "\n",
            "Passing `palette` without assigning `hue` is deprecated and will be removed in v0.14.0. Assign the `y` variable to `hue` and set `legend=False` for the same effect.\n",
            "\n",
            "  sns.violinplot(df, x='Score', y='Sentimiento', inner='box', palette='Dark2')\n"
          ]
        },
        {
          "output_type": "display_data",
          "data": {
            "text/plain": [
              "<Figure size 1200x360 with 1 Axes>"
            ],
            "image/png": "[encoded data removed]"
          },
          "metadata": {}
        }
      ]
    },
    {
      "source": [
        "from matplotlib import pyplot as plt\n",
        "df['Score'].plot(kind='line', figsize=(8, 4), title='Score')\n",
        "plt.gca().spines[['top', 'right']].set_visible(False)"
      ],
      "cell_type": "code",
      "metadata": {
        "colab": {
          "base_uri": "https://localhost:8080/",
          "height": 391
        },
        "id": "YUHSQ7VESZ88",
        "outputId": "f65a528a-27ee-4117-a7ff-a02c46c1c2fd"
      },
      "execution_count": null,
      "outputs": [
        {
          "output_type": "display_data",
          "data": {
            "text/plain": [
              "<Figure size 800x400 with 1 Axes>"
            ],
            "image/png": "[encoded data removed]"
          },
          "metadata": {}
        }
      ]
    },
    {
      "source": [
        "from matplotlib import pyplot as plt\n",
        "import seaborn as sns\n",
        "df.groupby('Sentimiento').size().plot(kind='barh', color=sns.palettes.mpl_palette('Dark2'))\n",
        "plt.gca().spines[['top', 'right',]].set_visible(False)"
      ],
      "cell_type": "code",
      "metadata": {
        "colab": {
          "base_uri": "https://localhost:8080/",
          "height": 430
        },
        "id": "zisdzrylSX6m",
        "outputId": "8b932158-9f03-4327-be94-006e79d467a5"
      },
      "execution_count": null,
      "outputs": [
        {
          "output_type": "display_data",
          "data": {
            "text/plain": [
              "<Figure size 640x480 with 1 Axes>"
            ],
            "image/png": "[encoded data removed]"
          },
          "metadata": {}
        }
      ]
    },
    {
      "source": [
        "from matplotlib import pyplot as plt\n",
        "df['Score'].plot(kind='hist', bins=20, title='Score')\n",
        "plt.gca().spines[['top', 'right',]].set_visible(False)"
      ],
      "cell_type": "code",
      "metadata": {
        "colab": {
          "base_uri": "https://localhost:8080/",
          "height": 452
        },
        "id": "zp44DiTiSUZF",
        "outputId": "5fbf3450-6602-4b1a-8ba4-34b3609adabd"
      },
      "execution_count": null,
      "outputs": [
        {
          "output_type": "display_data",
          "data": {
            "text/plain": [
              "<Figure size 640x480 with 1 Axes>"
            ],
            "image/png": "[encoded data removed]"
          },
          "metadata": {}
        }
      ]
    },
    {
      "cell_type": "code",
      "source": [
        "# Supongamos que tienes un DataFrame llamado 'merge' con una columna 'Sentimiento' que contiene las etiquetas de sentimiento\n",
        "\n",
        "# Filtrar el top 10 de cada categoría de sentimiento\n",
        "top_10_positivos = merge[merge['Sentimiento'] == 'POS'].nlargest(10, 'Score')\n",
        "top_10_negativos = merge[merge['Sentimiento'] == 'NEG'].nlargest(10, 'Score')\n",
        "top_10_neutrales = merge[merge['Sentimiento'] == 'NEU'].nlargest(10, 'Score')\n",
        "\n",
        "# Imprimir los resultados\n",
        "print(\"Top 10 de Sentimiento POSITIVO:\")\n",
        "print(top_10_positivos)\n",
        "\n",
        "print(\"\\nTop 10 de Sentimiento NEGATIVO:\")\n",
        "print(top_10_negativos)\n",
        "\n",
        "print(\"\\nTop 10 de Sentimiento NEUTRAL:\")\n",
        "print(top_10_neutrales)\n"
      ],
      "metadata": {
        "id": "1fPuFgSaTbOo",
        "colab": {
          "base_uri": "https://localhost:8080/"
        },
        "outputId": "726b9bb5-db7b-4908-ada5-f9c957778823"
      },
      "execution_count": null,
      "outputs": [
        {
          "output_type": "stream",
          "name": "stdout",
          "text": [
            "Top 10 de Sentimiento POSITIVO:\n",
            "        Fecha de inicio Fecha de finalización Tipo de respuesta  \\\n",
            "118 2024-01-17 13:13:53   2024-01-17 13:16:46        IP Address   \n",
            "81  2024-01-17 12:59:18   2024-01-17 13:00:15        IP Address   \n",
            "252 2024-01-17 13:53:33   2024-01-17 13:54:40        IP Address   \n",
            "445 2024-01-17 15:52:49   2024-01-17 15:54:21        IP Address   \n",
            "368 2024-01-17 14:51:19   2024-01-17 14:52:30        IP Address   \n",
            "617 2024-01-17 21:19:06   2024-01-17 21:22:35        IP Address   \n",
            "110 2024-01-17 13:11:43   2024-01-17 13:13:30        IP Address   \n",
            "73  2024-01-17 12:56:41   2024-01-17 12:57:46        IP Address   \n",
            "923 2024-01-22 12:47:19   2024-01-22 12:48:49        IP Address   \n",
            "745 2024-01-17 16:51:31   2024-01-18 12:44:48        IP Address   \n",
            "\n",
            "        Dirección IP  Progreso  Duración (en segundos)  Finalizado  \\\n",
            "118  190.195.166.169       100                     173        True   \n",
            "81   152.169.184.184       100                      57        True   \n",
            "252     200.63.20.18       100                      67        True   \n",
            "445     181.9.199.35       100                      92        True   \n",
            "368   190.190.11.109       100                      71        True   \n",
            "617  190.189.130.103       100                     208        True   \n",
            "110   181.46.139.249       100                     107        True   \n",
            "73      181.169.4.22       100                      65        True   \n",
            "923   190.194.79.193       100                      89        True   \n",
            "745   186.12.184.113       100                   71597        True   \n",
            "\n",
            "           Fecha registrada    ID de respuesta  Apellido del destinatario  \\\n",
            "118 2024-01-17 13:16:47.389  R_6OPilomRzLvDDzX                        NaN   \n",
            "81  2024-01-17 13:00:15.809  R_1LauTHiiLEERPFL                        NaN   \n",
            "252 2024-01-17 13:54:40.906  R_6GJA9XM8TkoiqJ3                        NaN   \n",
            "445 2024-01-17 15:54:22.117  R_1GwumldngZ8wpkU                        NaN   \n",
            "368 2024-01-17 14:52:31.039  R_1Rb1iNNcjV3xkPf                        NaN   \n",
            "617 2024-01-17 21:22:36.172  R_7tniJ7wtLFIPNbT                        NaN   \n",
            "110 2024-01-17 13:13:31.215  R_5awBZBynhi5MhHg                        NaN   \n",
            "73  2024-01-17 12:57:47.131  R_7WCPKqai6b0guHx                        NaN   \n",
            "923 2024-01-22 12:48:49.965  R_6mVFimPapVoQDUb                        NaN   \n",
            "745 2024-01-18 12:44:49.091  R_2hikDQuxej3hF8O                        NaN   \n",
            "\n",
            "     ...           ¿Por qué no operas con ellos?  \\\n",
            "118  ...  ELLOS TAN ATENDIENDO MUY BIEN Y AMABLE   \n",
            "81   ...                               Comodidad   \n",
            "252  ...                          Poca variedad    \n",
            "445  ...       Ncesutaria un buen asesoramiento    \n",
            "368  ...                                   dudas   \n",
            "617  ...                             sin interés   \n",
            "110  ...                 No los conozco muy bien   \n",
            "73   ...                             Tengo dudas   \n",
            "923  ...                             Tengo dudas   \n",
            "745  ...                     Operare muy pronto    \n",
            "\n",
            "     Si tuvieras que adivinar, ¿Cuál crees que es la tasa de interés que pagan los fondos comunes de inversión durante un mes? Proporcione una respuesta en %, por ejemplo, 5 significa que cree que los fondos comunes de inversión pagan un interés del 5% durante un mes, 10 significa que cree que el interés es del 10% por mes.  \\\n",
            "118  QUIERO AUMENTAR 236% PLAZO FIJO TRADICIONAL LA...                                                                                                                                                                                                                                                                                  \n",
            "81                                                   5                                                                                                                                                                                                                                                                                  \n",
            "252                                                  8                                                                                                                                                                                                                                                                                  \n",
            "445                                                10%                                                                                                                                                                                                                                                                                  \n",
            "368                                                15%                                                                                                                                                                                                                                                                                  \n",
            "617                                        sin interés                                                                                                                                                                                                                                                                                  \n",
            "110                                        no entiendo                                                                                                                                                                                                                                                                                  \n",
            "73                                                 No                                                                                                                                                                                                                                                                                   \n",
            "923                                                 15                                                                                                                                                                                                                                                                                  \n",
            "745                                                 12                                                                                                                                                                                                                                                                                  \n",
            "\n",
            "     ¿Te interesaría saber más sobre los beneficios de usar los fondos comunes de inversión?  \\\n",
            "118                                                 Si                                         \n",
            "81                                                  No                                         \n",
            "252                                                 Si                                         \n",
            "445                                                 Si                                         \n",
            "368                                                 Si                                         \n",
            "617                                                 No                                         \n",
            "110                                                 Si                                         \n",
            "73                                                  Si                                         \n",
            "923                                                 Si                                         \n",
            "745                                                 Si                                         \n",
            "\n",
            "     ¿Te gustaría recibir novedades sobre fondos comunes de inversión del Banco Ciudad por correo electrónico o app?  \\\n",
            "118                                                 Si                                                                 \n",
            "81                                                  No                                                                 \n",
            "252                                                 Si                                                                 \n",
            "445                                                 Si                                                                 \n",
            "368                                                 Si                                                                 \n",
            "617                                                 No                                                                 \n",
            "110                                                 Si                                                                 \n",
            "73                                                  Si                                                                 \n",
            "923                                                 Si                                                                 \n",
            "745                                                 Si                                                                 \n",
            "\n",
            "    Email         CUIT        Grupo     Score Sentimiento _merge  \n",
            "118   NaN  20208631331      CONTROL  0.970472         POS   both  \n",
            "81    NaN  27067184020  TRATAMIENTO  0.887156         POS   both  \n",
            "252   NaN  20261265770  TRATAMIENTO  0.852681         POS   both  \n",
            "445   NaN  20217005443  TRATAMIENTO  0.847751         POS   both  \n",
            "368   NaN  27223627299      CONTROL  0.835470         POS   both  \n",
            "617   NaN  27042010214  TRATAMIENTO  0.814593         POS   both  \n",
            "110   NaN  20046287615      CONTROL  0.811747         POS   both  \n",
            "73    NaN  20263096976      CONTROL  0.806347         POS   both  \n",
            "923   NaN  23077923349      CONTROL  0.806347         POS   both  \n",
            "745   NaN  20265658483  TRATAMIENTO  0.791281         POS   both  \n",
            "\n",
            "[10 rows x 27 columns]\n",
            "\n",
            "Top 10 de Sentimiento NEGATIVO:\n",
            "        Fecha de inicio Fecha de finalización Tipo de respuesta  \\\n",
            "317 2024-01-17 14:18:42   2024-01-17 14:19:49        IP Address   \n",
            "361 2024-01-17 14:47:05   2024-01-17 14:48:37        IP Address   \n",
            "577 2024-01-17 19:38:57   2024-01-17 19:39:57        IP Address   \n",
            "682 2024-01-18 08:25:17   2024-01-18 08:26:36        IP Address   \n",
            "496 2024-01-17 17:08:09   2024-01-17 17:11:04        IP Address   \n",
            "68  2024-01-17 12:55:04   2024-01-17 12:56:23        IP Address   \n",
            "84  2024-01-17 12:59:29   2024-01-17 13:00:51        IP Address   \n",
            "103 2024-01-17 13:09:03   2024-01-17 13:10:45        IP Address   \n",
            "155 2024-01-17 13:26:46   2024-01-17 13:28:21        IP Address   \n",
            "819 2024-01-18 18:56:59   2024-01-18 18:57:59        IP Address   \n",
            "\n",
            "        Dirección IP  Progreso  Duración (en segundos)  Finalizado  \\\n",
            "317    186.182.26.12       100                      66        True   \n",
            "361  201.231.132.169       100                      92        True   \n",
            "577     181.9.198.47       100                      60        True   \n",
            "682    201.219.66.35       100                      78        True   \n",
            "496   181.192.13.110       100                     174        True   \n",
            "68   190.111.209.188       100                      78        True   \n",
            "84    186.61.163.249       100                      81        True   \n",
            "103  190.134.192.130       100                     101        True   \n",
            "155    190.194.7.204       100                      95        True   \n",
            "819   190.195.174.81       100                      60        True   \n",
            "\n",
            "           Fecha registrada    ID de respuesta  Apellido del destinatario  \\\n",
            "317 2024-01-17 14:19:50.098  R_52CT7CkpATQyh6z                        NaN   \n",
            "361 2024-01-17 14:48:38.545  R_6g8SVkxr5LYvej7                        NaN   \n",
            "577 2024-01-17 19:39:58.889  R_1hFjQpIG0D45VyW                        NaN   \n",
            "682 2024-01-18 08:26:37.451  R_5NaDpnC3hLnaKOW                        NaN   \n",
            "496 2024-01-17 17:11:04.831  R_7RzqzBB5icQGviV                        NaN   \n",
            "68  2024-01-17 12:56:23.988  R_7C7viAOsubHSAl6                        NaN   \n",
            "84  2024-01-17 13:00:51.907  R_3j0atrPGydbeTEM                        NaN   \n",
            "103 2024-01-17 13:10:45.957  R_7rjYUifC2GNx0vH                        NaN   \n",
            "155 2024-01-17 13:28:22.450  R_6YECGjCL2v7F6bJ                        NaN   \n",
            "819 2024-01-18 18:58:00.193  R_7H8tR2BD8maMCcx                        NaN   \n",
            "\n",
            "     ...                      ¿Por qué no operas con ellos?  \\\n",
            "317  ...                           Elijo otras inversiones    \n",
            "361  ...  por el momento estaba acostumbrada al plazo fi...   \n",
            "577  ...                     Opero en otras app/plataformas   \n",
            "682  ...             Prefiero invertir en otras modalidades   \n",
            "496  ...                                  Rentabilidad baja   \n",
            "68   ...                                Estoy analizándolo    \n",
            "84   ...                                   Estoy pensandolo   \n",
            "103  ...                                    Estoy evaluando   \n",
            "155  ...                             no es mucho el interés   \n",
            "819  ...                                Por decision propia   \n",
            "\n",
            "     Si tuvieras que adivinar, ¿Cuál crees que es la tasa de interés que pagan los fondos comunes de inversión durante un mes? Proporcione una respuesta en %, por ejemplo, 5 significa que cree que los fondos comunes de inversión pagan un interés del 5% durante un mes, 10 significa que cree que el interés es del 10% por mes.  \\\n",
            "317                                                 30                                                                                                                                                                                                                                                                                  \n",
            "361                                                 70                                                                                                                                                                                                                                                                                  \n",
            "577                                                126                                                                                                                                                                                                                                                                                  \n",
            "682                                                  5                                                                                                                                                                                                                                                                                  \n",
            "496                                                  4                                                                                                                                                                                                                                                                                  \n",
            "68                                                  10                                                                                                                                                                                                                                                                                  \n",
            "84                                                  10                                                                                                                                                                                                                                                                                  \n",
            "103                                                 70                                                                                                                                                                                                                                                                                  \n",
            "155                                                 10                                                                                                                                                                                                                                                                                  \n",
            "819                   No estoy al dia de los intereses                                                                                                                                                                                                                                                                                  \n",
            "\n",
            "     ¿Te interesaría saber más sobre los beneficios de usar los fondos comunes de inversión?  \\\n",
            "317                                                 No                                         \n",
            "361                                                 Si                                         \n",
            "577                                                 No                                         \n",
            "682                                                 Si                                         \n",
            "496                                                 Si                                         \n",
            "68                                                  Si                                         \n",
            "84                                                  Si                                         \n",
            "103                                                 Si                                         \n",
            "155                                                 Si                                         \n",
            "819                                                 No                                         \n",
            "\n",
            "     ¿Te gustaría recibir novedades sobre fondos comunes de inversión del Banco Ciudad por correo electrónico o app?  \\\n",
            "317                                                 No                                                                 \n",
            "361                                                 Si                                                                 \n",
            "577                                                 Si                                                                 \n",
            "682                                                 Si                                                                 \n",
            "496                                                 Si                                                                 \n",
            "68                                                  Si                                                                 \n",
            "84                                                  Si                                                                 \n",
            "103                                                 Si                                                                 \n",
            "155                                                 Si                                                                 \n",
            "819                                                 No                                                                 \n",
            "\n",
            "    Email         CUIT        Grupo     Score Sentimiento _merge  \n",
            "317   NaN  20127958271  TRATAMIENTO  0.328771         NEG   both  \n",
            "361   NaN  23933981479  TRATAMIENTO  0.323718         NEG   both  \n",
            "577   NaN  20359601256  TRATAMIENTO  0.319470         NEG   both  \n",
            "682   NaN  27104018462  TRATAMIENTO  0.319470         NEG   both  \n",
            "496   NaN  27299062673  TRATAMIENTO  0.316868         NEG   both  \n",
            "68    NaN  23223631614      CONTROL  0.310621         NEG   both  \n",
            "84    NaN  20076572608  TRATAMIENTO  0.310621         NEG   both  \n",
            "103   NaN  20115983351      CONTROL  0.310621         NEG   both  \n",
            "155   NaN  27169413652      CONTROL  0.310525         NEG   both  \n",
            "819   NaN  23039821494      CONTROL  0.309029         NEG   both  \n",
            "\n",
            "[10 rows x 27 columns]\n",
            "\n",
            "Top 10 de Sentimiento NEUTRAL:\n",
            "        Fecha de inicio Fecha de finalización Tipo de respuesta  \\\n",
            "704 2024-01-18 09:39:20   2024-01-18 09:40:38        IP Address   \n",
            "450 2024-01-17 16:00:44   2024-01-17 16:02:21        IP Address   \n",
            "431 2024-01-17 15:26:59   2024-01-17 15:39:45        IP Address   \n",
            "416 2024-01-17 15:18:39   2024-01-17 15:24:33        IP Address   \n",
            "69  2024-01-17 12:45:58   2024-01-17 12:57:04        IP Address   \n",
            "892 2024-01-19 09:53:19   2024-01-19 09:53:47        IP Address   \n",
            "529 2024-01-17 18:08:46   2024-01-17 18:14:51        IP Address   \n",
            "319 2024-01-17 14:21:55   2024-01-17 14:23:15        IP Address   \n",
            "495 2024-01-17 17:06:33   2024-01-17 17:07:32        IP Address   \n",
            "669 2024-01-18 07:06:29   2024-01-18 07:07:48        IP Address   \n",
            "\n",
            "        Dirección IP  Progreso  Duración (en segundos)  Finalizado  \\\n",
            "704   190.192.206.71       100                      78        True   \n",
            "450    181.229.44.41       100                      96        True   \n",
            "431     201.178.39.3       100                     766        True   \n",
            "416     179.6.100.94       100                     353        True   \n",
            "69    179.51.236.195       100                     665        True   \n",
            "892    181.9.133.173        40                      28       False   \n",
            "529   190.137.91.251       100                     364        True   \n",
            "319   181.117.229.88       100                      79        True   \n",
            "495   190.16.241.237       100                      58        True   \n",
            "669  190.174.243.191       100                      79        True   \n",
            "\n",
            "           Fecha registrada    ID de respuesta  Apellido del destinatario  \\\n",
            "704 2024-01-18 09:40:39.651  R_7WuNvT66CxWdRkZ                        NaN   \n",
            "450 2024-01-17 16:02:21.754  R_5in9O6Fz0TtKdgQ                        NaN   \n",
            "431 2024-01-17 15:39:46.294  R_3sQPuG6OKnpyOaJ                        NaN   \n",
            "416 2024-01-17 15:24:33.863  R_1PhWpiVZ80uAFQ5                        NaN   \n",
            "69  2024-01-17 12:57:04.522  R_5wgDKdxWuGhAMsZ                        NaN   \n",
            "892 2024-01-20 09:53:53.870  R_1dG4iGERJkIjWUC                        NaN   \n",
            "529 2024-01-17 18:14:51.971  R_6wrtX2oW5rFk3nj                        NaN   \n",
            "319 2024-01-17 14:23:15.839  R_3kLJkDfaUMU3mv6                        NaN   \n",
            "495 2024-01-17 17:07:32.527  R_7GwvtPw5VMfdSPg                        NaN   \n",
            "669 2024-01-18 07:07:49.358  R_1ZqCp1oGWni4qTD                        NaN   \n",
            "\n",
            "     ...                      ¿Por qué no operas con ellos?  \\\n",
            "704  ...                          no ahonde en los detalles   \n",
            "450  ...                      Tengi opciones maz ventajosas   \n",
            "431  ...  La intención la tengo pero hay un problema que...   \n",
            "416  ...                        Necesito mayor información    \n",
            "69   ...      no es facil el acceso desde el homebanking...   \n",
            "892  ...                                  Nonpor el momento   \n",
            "529  ...  He oído hablar, pero desconozco los detalles d...   \n",
            "319  ...                Uso billetera virtual y plazo fijo    \n",
            "495  ...                                 Uso Invertironline   \n",
            "669  ...                                  Son a largo plazo   \n",
            "\n",
            "     Si tuvieras que adivinar, ¿Cuál crees que es la tasa de interés que pagan los fondos comunes de inversión durante un mes? Proporcione una respuesta en %, por ejemplo, 5 significa que cree que los fondos comunes de inversión pagan un interés del 5% durante un mes, 10 significa que cree que el interés es del 10% por mes.  \\\n",
            "704                                                 18                                                                                                                                                                                                                                                                                  \n",
            "450       Los fondos comunes mo pagan tasas de interes                                                                                                                                                                                                                                                                                  \n",
            "431  Entiendo que los fondos comunes no pagan inter...                                                                                                                                                                                                                                                                                  \n",
            "416            Fondos comunes paga el 10% de interés?                                                                                                                                                                                                                                                                                   \n",
            "69                                                9.50                                                                                                                                                                                                                                                                                  \n",
            "892                                                NaN                                                                                                                                                                                                                                                                                  \n",
            "529                                        No adivino.                                                                                                                                                                                                                                                                                  \n",
            "319                                                 10                                                                                                                                                                                                                                                                                  \n",
            "495                                                  5                                                                                                                                                                                                                                                                                  \n",
            "669                          Variable segun resultados                                                                                                                                                                                                                                                                                  \n",
            "\n",
            "     ¿Te interesaría saber más sobre los beneficios de usar los fondos comunes de inversión?  \\\n",
            "704                                                 Si                                         \n",
            "450                                                 No                                         \n",
            "431                                                 No                                         \n",
            "416                                                 Si                                         \n",
            "69                                                  No                                         \n",
            "892                                                NaN                                         \n",
            "529                                                 Si                                         \n",
            "319                                                 Si                                         \n",
            "495                                                 No                                         \n",
            "669                                                 No                                         \n",
            "\n",
            "     ¿Te gustaría recibir novedades sobre fondos comunes de inversión del Banco Ciudad por correo electrónico o app?  \\\n",
            "704                                                 Si                                                                 \n",
            "450                                                 No                                                                 \n",
            "431                                                 Si                                                                 \n",
            "416                                                 Si                                                                 \n",
            "69                                                  No                                                                 \n",
            "892                                                NaN                                                                 \n",
            "529                                                 No                                                                 \n",
            "319                                                 Si                                                                 \n",
            "495                                                 Si                                                                 \n",
            "669                                                 No                                                                 \n",
            "\n",
            "    Email         CUIT        Grupo     Score Sentimiento _merge  \n",
            "704   NaN  27251545850      CONTROL  0.646166         NEU   both  \n",
            "450   NaN  27109750951      CONTROL  0.622637         NEU   both  \n",
            "431   NaN  27026373757      CONTROL  0.618763         NEU   both  \n",
            "416   NaN  20938589047      CONTROL  0.610978         NEU   both  \n",
            "69    NaN  20253930161  TRATAMIENTO  0.602937         NEU   both  \n",
            "892   NaN  27202507897      CONTROL  0.598434         NEU   both  \n",
            "529   NaN  20062237326      CONTROL  0.595247         NEU   both  \n",
            "319   NaN  20437066761  TRATAMIENTO  0.559160         NEU   both  \n",
            "495   NaN  20180675907      CONTROL  0.559160         NEU   both  \n",
            "669   NaN  20086342848  TRATAMIENTO  0.543201         NEU   both  \n",
            "\n",
            "[10 rows x 27 columns]\n"
          ]
        }
      ]
    },
    {
      "cell_type": "code",
      "source": [
        "merge_test = merge[['Sentimiento','¿Por qué no operas con ellos?','Score']]"
      ],
      "metadata": {
        "id": "W86tBGw9VccY"
      },
      "execution_count": null,
      "outputs": []
    },
    {
      "cell_type": "code",
      "source": [
        "# Filtrar el top 10 de cada categoría de sentimiento\n",
        "top_10_positivos = merge_test[merge_test['Sentimiento'] == 'POS'].nlargest(10, 'Score')\n",
        "\n",
        "# Imprimir los resultados\n",
        "print(\"Top 10 de Sentimiento POSITIVO:\")\n",
        "print(top_10_positivos)\n",
        "\n",
        "\n",
        "\n"
      ],
      "metadata": {
        "id": "gD2iB7Q9VzIy",
        "colab": {
          "base_uri": "https://localhost:8080/"
        },
        "outputId": "d9dbab74-7dfb-4b69-d5d2-e9ecd935a239"
      },
      "execution_count": null,
      "outputs": [
        {
          "output_type": "stream",
          "name": "stdout",
          "text": [
            "Top 10 de Sentimiento POSITIVO:\n",
            "    Sentimiento           ¿Por qué no operas con ellos?     Score\n",
            "118         POS  ELLOS TAN ATENDIENDO MUY BIEN Y AMABLE  0.970472\n",
            "81          POS                               Comodidad  0.887156\n",
            "252         POS                          Poca variedad   0.852681\n",
            "445         POS       Ncesutaria un buen asesoramiento   0.847751\n",
            "368         POS                                   dudas  0.835470\n",
            "617         POS                             sin interés  0.814593\n",
            "110         POS                 No los conozco muy bien  0.811747\n",
            "73          POS                             Tengo dudas  0.806347\n",
            "923         POS                             Tengo dudas  0.806347\n",
            "745         POS                     Operare muy pronto   0.791281\n"
          ]
        }
      ]
    },
    {
      "cell_type": "code",
      "source": [
        "top_10_negativos = merge_test[merge_test['Sentimiento'] == 'NEG'].nsmallest(10, 'Score')\n",
        "print(\"\\nTop 10 de Sentimiento NEGATIVO:\")\n",
        "print(top_10_negativos)"
      ],
      "metadata": {
        "id": "0V_5PjWcXNot",
        "outputId": "07e46376-730d-4d89-c199-471710f617d9",
        "colab": {
          "base_uri": "https://localhost:8080/"
        }
      },
      "execution_count": null,
      "outputs": [
        {
          "output_type": "stream",
          "name": "stdout",
          "text": [
            "\n",
            "Top 10 de Sentimiento NEGATIVO:\n",
            "    Sentimiento                      ¿Por qué no operas con ellos?  \\\n",
            "138         NEG  Porque abrí una cuenta para comprar dolar MET ...   \n",
            "661         NEG  Porque el Ciudad me ha decepcionado en el rubr...   \n",
            "912         NEG  Porque el banco no te deja vender.bonos en dol...   \n",
            "621         NEG  Porque al banco no le importan sus clientes. C...   \n",
            "864         NEG  porque cuando pregunte no me lo explicaron me ...   \n",
            "844         NEG  No le tengo confianza, por la cantidad de vece...   \n",
            "796         NEG  Porque me resulta muy dificil operar con Bamco...   \n",
            "633         NEG  Porque fui personalmente y me dijeron que no a...   \n",
            "643         NEG  Porque cuando quise operar no funcionaba (me c...   \n",
            "181         NEG  Porque cuando entro me dice que tengo que abri...   \n",
            "\n",
            "            Score  \n",
            "138  1.512493e-40  \n",
            "661  3.188266e-14  \n",
            "912  3.920300e-14  \n",
            "621  1.281638e-12  \n",
            "864  8.791786e-12  \n",
            "844  2.369715e-11  \n",
            "796  5.235921e-11  \n",
            "633  1.110429e-10  \n",
            "643  1.274468e-10  \n",
            "181  1.828528e-10  \n"
          ]
        }
      ]
    },
    {
      "cell_type": "code",
      "source": [
        "# Guarda el DataFrame como un archivo CSV\n",
        "ruta_del_archivo = '/content/drive/MyDrive/Colab Notebooks/base_encuesta/top10N.xlsx'\n",
        "top_10_negativos.to_excel(ruta_del_archivo, index=False)"
      ],
      "metadata": {
        "id": "1sjjWrN0EXad"
      },
      "execution_count": null,
      "outputs": []
    },
    {
      "cell_type": "code",
      "source": [
        "top_10_neutrales = merge_test[merge_test['Sentimiento'] == 'NEU'].sample(n=10)\n",
        "print(\"\\nTop 10 de Sentimiento NEUTRAL:\")\n",
        "print(top_10_neutrales)"
      ],
      "metadata": {
        "colab": {
          "base_uri": "https://localhost:8080/"
        },
        "id": "V8c6_o6zW1mc",
        "outputId": "469c6582-6b5a-4159-dfea-fe78a4f942d6"
      },
      "execution_count": null,
      "outputs": [
        {
          "output_type": "stream",
          "name": "stdout",
          "text": [
            "\n",
            "Top 10 de Sentimiento NEUTRAL:\n",
            "    Sentimiento                      ¿Por qué no operas con ellos?     Score\n",
            "780         NEU  me conforma el plazo fijo con renovacon de cap...  0.339614\n",
            "305         NEU                                       Más adelante  0.357856\n",
            "153         NEU                               Elijo plazo fijo uva  0.497892\n",
            "522         NEU                               Capital insuficiente  0.497892\n",
            "782         NEU                                              Opero  0.497892\n",
            "343         NEU                                    desconocimiento  0.497892\n",
            "695         NEU                       Tengo plazo fijo con ustedes  0.452287\n",
            "640         NEU                                    sin informacion  0.458453\n",
            "362         NEU                          Desconozco como fincionan  0.376094\n",
            "475         NEU                                 Desconozco el tema  0.347295\n"
          ]
        }
      ]
    },
    {
      "cell_type": "code",
      "source": [
        "print(data)"
      ],
      "metadata": {
        "id": "TCWej7QhJTsH"
      },
      "execution_count": null,
      "outputs": []
    },
    {
      "cell_type": "code",
      "source": [
        "pip install pysentimiento"
      ],
      "metadata": {
        "colab": {
          "base_uri": "https://localhost:8080/"
        },
        "id": "p9sr6KBXOKcK",
        "outputId": "8c1b98f4-c333-48b3-e8df-cd4535dd881c"
      },
      "execution_count": null,
      "outputs": [
        {
          "output_type": "stream",
          "name": "stdout",
          "text": [
            "Collecting pysentimiento\n",
            "  Downloading pysentimiento-0.7.3-py3-none-any.whl (39 kB)\n",
            "Collecting accelerate>=0.27.2 (from pysentimiento)\n",
            "  Downloading accelerate-0.28.0-py3-none-any.whl (290 kB)\n",
            "\u001b[2K     \u001b[90m━━━━━━━━━━━━━━━━━━━━━━━━━━━━━━━━━━━━━━━━\u001b[0m \u001b[32m290.1/290.1 kB\u001b[0m \u001b[31m6.0 MB/s\u001b[0m eta \u001b[36m0:00:00\u001b[0m\n",
            "\u001b[?25hCollecting datasets>=2.10.1 (from pysentimiento)\n",
            "  Downloading datasets-2.18.0-py3-none-any.whl (510 kB)\n",
            "\u001b[2K     \u001b[90m━━━━━━━━━━━━━━━━━━━━━━━━━━━━━━━━━━━━━━━━\u001b[0m \u001b[32m510.5/510.5 kB\u001b[0m \u001b[31m8.6 MB/s\u001b[0m eta \u001b[36m0:00:00\u001b[0m\n",
            "\u001b[?25hCollecting emoji>=1.6.1 (from pysentimiento)\n",
            "  Downloading emoji-2.11.0-py2.py3-none-any.whl (433 kB)\n",
            "\u001b[2K     \u001b[90m━━━━━━━━━━━━━━━━━━━━━━━━━━━━━━━━━━━━━━━━\u001b[0m \u001b[32m433.8/433.8 kB\u001b[0m \u001b[31m9.0 MB/s\u001b[0m eta \u001b[36m0:00:00\u001b[0m\n",
            "\u001b[?25hRequirement already satisfied: spacy>=3.5.0 in /usr/local/lib/python3.10/dist-packages (from pysentimiento) (3.7.4)\n",
            "Requirement already satisfied: torch!=2.0.1,>=2.0.0 in /usr/local/lib/python3.10/dist-packages (from pysentimiento) (2.2.1+cu121)\n",
            "Requirement already satisfied: transformers>=4.13.0 in /usr/local/lib/python3.10/dist-packages (from pysentimiento) (4.38.2)\n",
            "Requirement already satisfied: numpy>=1.17 in /usr/local/lib/python3.10/dist-packages (from accelerate>=0.27.2->pysentimiento) (1.25.2)\n",
            "Requirement already satisfied: packaging>=20.0 in /usr/local/lib/python3.10/dist-packages (from accelerate>=0.27.2->pysentimiento) (24.0)\n",
            "Requirement already satisfied: psutil in /usr/local/lib/python3.10/dist-packages (from accelerate>=0.27.2->pysentimiento) (5.9.5)\n",
            "Requirement already satisfied: pyyaml in /usr/local/lib/python3.10/dist-packages (from accelerate>=0.27.2->pysentimiento) (6.0.1)\n",
            "Requirement already satisfied: huggingface-hub in /usr/local/lib/python3.10/dist-packages (from accelerate>=0.27.2->pysentimiento) (0.20.3)\n",
            "Requirement already satisfied: safetensors>=0.3.1 in /usr/local/lib/python3.10/dist-packages (from accelerate>=0.27.2->pysentimiento) (0.4.2)\n",
            "Requirement already satisfied: filelock in /usr/local/lib/python3.10/dist-packages (from datasets>=2.10.1->pysentimiento) (3.13.3)\n",
            "Requirement already satisfied: pyarrow>=12.0.0 in /usr/local/lib/python3.10/dist-packages (from datasets>=2.10.1->pysentimiento) (14.0.2)\n",
            "Requirement already satisfied: pyarrow-hotfix in /usr/local/lib/python3.10/dist-packages (from datasets>=2.10.1->pysentimiento) (0.6)\n",
            "Collecting dill<0.3.9,>=0.3.0 (from datasets>=2.10.1->pysentimiento)\n",
            "  Downloading dill-0.3.8-py3-none-any.whl (116 kB)\n",
            "\u001b[2K     \u001b[90m━━━━━━━━━━━━━━━━━━━━━━━━━━━━━━━━━━━━━━━━\u001b[0m \u001b[32m116.3/116.3 kB\u001b[0m \u001b[31m10.8 MB/s\u001b[0m eta \u001b[36m0:00:00\u001b[0m\n",
            "\u001b[?25hRequirement already satisfied: pandas in /usr/local/lib/python3.10/dist-packages (from datasets>=2.10.1->pysentimiento) (1.5.3)\n",
            "Requirement already satisfied: requests>=2.19.0 in /usr/local/lib/python3.10/dist-packages (from datasets>=2.10.1->pysentimiento) (2.31.0)\n",
            "Requirement already satisfied: tqdm>=4.62.1 in /usr/local/lib/python3.10/dist-packages (from datasets>=2.10.1->pysentimiento) (4.66.2)\n",
            "Collecting xxhash (from datasets>=2.10.1->pysentimiento)\n",
            "  Downloading xxhash-3.4.1-cp310-cp310-manylinux_2_17_x86_64.manylinux2014_x86_64.whl (194 kB)\n",
            "\u001b[2K     \u001b[90m━━━━━━━━━━━━━━━━━━━━━━━━━━━━━━━━━━━━━━━━\u001b[0m \u001b[32m194.1/194.1 kB\u001b[0m \u001b[31m11.3 MB/s\u001b[0m eta \u001b[36m0:00:00\u001b[0m\n",
            "\u001b[?25hCollecting multiprocess (from datasets>=2.10.1->pysentimiento)\n",
            "  Downloading multiprocess-0.70.16-py310-none-any.whl (134 kB)\n",
            "\u001b[2K     \u001b[90m━━━━━━━━━━━━━━━━━━━━━━━━━━━━━━━━━━━━━━━━\u001b[0m \u001b[32m134.8/134.8 kB\u001b[0m \u001b[31m12.3 MB/s\u001b[0m eta \u001b[36m0:00:00\u001b[0m\n",
            "\u001b[?25hRequirement already satisfied: fsspec[http]<=2024.2.0,>=2023.1.0 in /usr/local/lib/python3.10/dist-packages (from datasets>=2.10.1->pysentimiento) (2023.6.0)\n",
            "Requirement already satisfied: aiohttp in /usr/local/lib/python3.10/dist-packages (from datasets>=2.10.1->pysentimiento) (3.9.3)\n",
            "Requirement already satisfied: spacy-legacy<3.1.0,>=3.0.11 in /usr/local/lib/python3.10/dist-packages (from spacy>=3.5.0->pysentimiento) (3.0.12)\n",
            "Requirement already satisfied: spacy-loggers<2.0.0,>=1.0.0 in /usr/local/lib/python3.10/dist-packages (from spacy>=3.5.0->pysentimiento) (1.0.5)\n",
            "Requirement already satisfied: murmurhash<1.1.0,>=0.28.0 in /usr/local/lib/python3.10/dist-packages (from spacy>=3.5.0->pysentimiento) (1.0.10)\n",
            "Requirement already satisfied: cymem<2.1.0,>=2.0.2 in /usr/local/lib/python3.10/dist-packages (from spacy>=3.5.0->pysentimiento) (2.0.8)\n",
            "Requirement already satisfied: preshed<3.1.0,>=3.0.2 in /usr/local/lib/python3.10/dist-packages (from spacy>=3.5.0->pysentimiento) (3.0.9)\n",
            "Requirement already satisfied: thinc<8.3.0,>=8.2.2 in /usr/local/lib/python3.10/dist-packages (from spacy>=3.5.0->pysentimiento) (8.2.3)\n",
            "Requirement already satisfied: wasabi<1.2.0,>=0.9.1 in /usr/local/lib/python3.10/dist-packages (from spacy>=3.5.0->pysentimiento) (1.1.2)\n",
            "Requirement already satisfied: srsly<3.0.0,>=2.4.3 in /usr/local/lib/python3.10/dist-packages (from spacy>=3.5.0->pysentimiento) (2.4.8)\n",
            "Requirement already satisfied: catalogue<2.1.0,>=2.0.6 in /usr/local/lib/python3.10/dist-packages (from spacy>=3.5.0->pysentimiento) (2.0.10)\n",
            "Requirement already satisfied: weasel<0.4.0,>=0.1.0 in /usr/local/lib/python3.10/dist-packages (from spacy>=3.5.0->pysentimiento) (0.3.4)\n",
            "Requirement already satisfied: typer<0.10.0,>=0.3.0 in /usr/local/lib/python3.10/dist-packages (from spacy>=3.5.0->pysentimiento) (0.9.4)\n",
            "Requirement already satisfied: smart-open<7.0.0,>=5.2.1 in /usr/local/lib/python3.10/dist-packages (from spacy>=3.5.0->pysentimiento) (6.4.0)\n",
            "Requirement already satisfied: pydantic!=1.8,!=1.8.1,<3.0.0,>=1.7.4 in /usr/local/lib/python3.10/dist-packages (from spacy>=3.5.0->pysentimiento) (2.6.4)\n",
            "Requirement already satisfied: jinja2 in /usr/local/lib/python3.10/dist-packages (from spacy>=3.5.0->pysentimiento) (3.1.3)\n",
            "Requirement already satisfied: setuptools in /usr/local/lib/python3.10/dist-packages (from spacy>=3.5.0->pysentimiento) (67.7.2)\n",
            "Requirement already satisfied: langcodes<4.0.0,>=3.2.0 in /usr/local/lib/python3.10/dist-packages (from spacy>=3.5.0->pysentimiento) (3.3.0)\n",
            "Requirement already satisfied: typing-extensions>=4.8.0 in /usr/local/lib/python3.10/dist-packages (from torch!=2.0.1,>=2.0.0->pysentimiento) (4.10.0)\n",
            "Requirement already satisfied: sympy in /usr/local/lib/python3.10/dist-packages (from torch!=2.0.1,>=2.0.0->pysentimiento) (1.12)\n",
            "Requirement already satisfied: networkx in /usr/local/lib/python3.10/dist-packages (from torch!=2.0.1,>=2.0.0->pysentimiento) (3.2.1)\n",
            "Collecting nvidia-cuda-nvrtc-cu12==12.1.105 (from torch!=2.0.1,>=2.0.0->pysentimiento)\n",
            "  Downloading nvidia_cuda_nvrtc_cu12-12.1.105-py3-none-manylinux1_x86_64.whl (23.7 MB)\n",
            "\u001b[2K     \u001b[90m━━━━━━━━━━━━━━━━━━━━━━━━━━━━━━━━━━━━━━━━\u001b[0m \u001b[32m23.7/23.7 MB\u001b[0m \u001b[31m28.7 MB/s\u001b[0m eta \u001b[36m0:00:00\u001b[0m\n",
            "\u001b[?25hCollecting nvidia-cuda-runtime-cu12==12.1.105 (from torch!=2.0.1,>=2.0.0->pysentimiento)\n",
            "  Downloading nvidia_cuda_runtime_cu12-12.1.105-py3-none-manylinux1_x86_64.whl (823 kB)\n",
            "\u001b[2K     \u001b[90m━━━━━━━━━━━━━━━━━━━━━━━━━━━━━━━━━━━━━━━━\u001b[0m \u001b[32m823.6/823.6 kB\u001b[0m \u001b[31m45.6 MB/s\u001b[0m eta \u001b[36m0:00:00\u001b[0m\n",
            "\u001b[?25hCollecting nvidia-cuda-cupti-cu12==12.1.105 (from torch!=2.0.1,>=2.0.0->pysentimiento)\n",
            "  Downloading nvidia_cuda_cupti_cu12-12.1.105-py3-none-manylinux1_x86_64.whl (14.1 MB)\n",
            "\u001b[2K     \u001b[90m━━━━━━━━━━━━━━━━━━━━━━━━━━━━━━━━━━━━━━━━\u001b[0m \u001b[32m14.1/14.1 MB\u001b[0m \u001b[31m53.3 MB/s\u001b[0m eta \u001b[36m0:00:00\u001b[0m\n",
            "\u001b[?25hCollecting nvidia-cudnn-cu12==8.9.2.26 (from torch!=2.0.1,>=2.0.0->pysentimiento)\n",
            "  Downloading nvidia_cudnn_cu12-8.9.2.26-py3-none-manylinux1_x86_64.whl (731.7 MB)\n",
            "\u001b[2K     \u001b[90m━━━━━━━━━━━━━━━━━━━━━━━━━━━━━━━━━━━━━━━━\u001b[0m \u001b[32m731.7/731.7 MB\u001b[0m \u001b[31m580.2 kB/s\u001b[0m eta \u001b[36m0:00:00\u001b[0m\n",
            "\u001b[?25hCollecting nvidia-cublas-cu12==12.1.3.1 (from torch!=2.0.1,>=2.0.0->pysentimiento)\n",
            "  Downloading nvidia_cublas_cu12-12.1.3.1-py3-none-manylinux1_x86_64.whl (410.6 MB)\n",
            "\u001b[2K     \u001b[90m━━━━━━━━━━━━━━━━━━━━━━━━━━━━━━━━━━━━━━━━\u001b[0m \u001b[32m410.6/410.6 MB\u001b[0m \u001b[31m1.2 MB/s\u001b[0m eta \u001b[36m0:00:00\u001b[0m\n",
            "\u001b[?25hCollecting nvidia-cufft-cu12==11.0.2.54 (from torch!=2.0.1,>=2.0.0->pysentimiento)\n",
            "  Downloading nvidia_cufft_cu12-11.0.2.54-py3-none-manylinux1_x86_64.whl (121.6 MB)\n",
            "\u001b[2K     \u001b[90m━━━━━━━━━━━━━━━━━━━━━━━━━━━━━━━━━━━━━━━━\u001b[0m \u001b[32m121.6/121.6 MB\u001b[0m \u001b[31m8.7 MB/s\u001b[0m eta \u001b[36m0:00:00\u001b[0m\n",
            "\u001b[?25hCollecting nvidia-curand-cu12==10.3.2.106 (from torch!=2.0.1,>=2.0.0->pysentimiento)\n",
            "  Downloading nvidia_curand_cu12-10.3.2.106-py3-none-manylinux1_x86_64.whl (56.5 MB)\n",
            "\u001b[2K     \u001b[90m━━━━━━━━━━━━━━━━━━━━━━━━━━━━━━━━━━━━━━━━\u001b[0m \u001b[32m56.5/56.5 MB\u001b[0m \u001b[31m10.9 MB/s\u001b[0m eta \u001b[36m0:00:00\u001b[0m\n",
            "\u001b[?25hCollecting nvidia-cusolver-cu12==11.4.5.107 (from torch!=2.0.1,>=2.0.0->pysentimiento)\n",
            "  Downloading nvidia_cusolver_cu12-11.4.5.107-py3-none-manylinux1_x86_64.whl (124.2 MB)\n",
            "\u001b[2K     \u001b[90m━━━━━━━━━━━━━━━━━━━━━━━━━━━━━━━━━━━━━━━━\u001b[0m \u001b[32m124.2/124.2 MB\u001b[0m \u001b[31m6.9 MB/s\u001b[0m eta \u001b[36m0:00:00\u001b[0m\n",
            "\u001b[?25hCollecting nvidia-cusparse-cu12==12.1.0.106 (from torch!=2.0.1,>=2.0.0->pysentimiento)\n",
            "  Downloading nvidia_cusparse_cu12-12.1.0.106-py3-none-manylinux1_x86_64.whl (196.0 MB)\n",
            "\u001b[2K     \u001b[90m━━━━━━━━━━━━━━━━━━━━━━━━━━━━━━━━━━━━━━━━\u001b[0m \u001b[32m196.0/196.0 MB\u001b[0m \u001b[31m2.3 MB/s\u001b[0m eta \u001b[36m0:00:00\u001b[0m\n",
            "\u001b[?25hCollecting nvidia-nccl-cu12==2.19.3 (from torch!=2.0.1,>=2.0.0->pysentimiento)\n",
            "  Downloading nvidia_nccl_cu12-2.19.3-py3-none-manylinux1_x86_64.whl (166.0 MB)\n",
            "\u001b[2K     \u001b[90m━━━━━━━━━━━━━━━━━━━━━━━━━━━━━━━━━━━━━━━━\u001b[0m \u001b[32m166.0/166.0 MB\u001b[0m \u001b[31m2.6 MB/s\u001b[0m eta \u001b[36m0:00:00\u001b[0m\n",
            "\u001b[?25hCollecting nvidia-nvtx-cu12==12.1.105 (from torch!=2.0.1,>=2.0.0->pysentimiento)\n",
            "  Downloading nvidia_nvtx_cu12-12.1.105-py3-none-manylinux1_x86_64.whl (99 kB)\n",
            "\u001b[2K     \u001b[90m━━━━━━━━━━━━━━━━━━━━━━━━━━━━━━━━━━━━━━━━\u001b[0m \u001b[32m99.1/99.1 kB\u001b[0m \u001b[31m11.9 MB/s\u001b[0m eta \u001b[36m0:00:00\u001b[0m\n",
            "\u001b[?25hRequirement already satisfied: triton==2.2.0 in /usr/local/lib/python3.10/dist-packages (from torch!=2.0.1,>=2.0.0->pysentimiento) (2.2.0)\n",
            "Collecting nvidia-nvjitlink-cu12 (from nvidia-cusolver-cu12==11.4.5.107->torch!=2.0.1,>=2.0.0->pysentimiento)\n",
            "  Downloading nvidia_nvjitlink_cu12-12.4.99-py3-none-manylinux2014_x86_64.whl (21.1 MB)\n",
            "\u001b[2K     \u001b[90m━━━━━━━━━━━━━━━━━━━━━━━━━━━━━━━━━━━━━━━━\u001b[0m \u001b[32m21.1/21.1 MB\u001b[0m \u001b[31m60.2 MB/s\u001b[0m eta \u001b[36m0:00:00\u001b[0m\n",
            "\u001b[?25hRequirement already satisfied: regex!=2019.12.17 in /usr/local/lib/python3.10/dist-packages (from transformers>=4.13.0->pysentimiento) (2023.12.25)\n",
            "Requirement already satisfied: tokenizers<0.19,>=0.14 in /usr/local/lib/python3.10/dist-packages (from transformers>=4.13.0->pysentimiento) (0.15.2)\n",
            "Requirement already satisfied: aiosignal>=1.1.2 in /usr/local/lib/python3.10/dist-packages (from aiohttp->datasets>=2.10.1->pysentimiento) (1.3.1)\n",
            "Requirement already satisfied: attrs>=17.3.0 in /usr/local/lib/python3.10/dist-packages (from aiohttp->datasets>=2.10.1->pysentimiento) (23.2.0)\n",
            "Requirement already satisfied: frozenlist>=1.1.1 in /usr/local/lib/python3.10/dist-packages (from aiohttp->datasets>=2.10.1->pysentimiento) (1.4.1)\n",
            "Requirement already satisfied: multidict<7.0,>=4.5 in /usr/local/lib/python3.10/dist-packages (from aiohttp->datasets>=2.10.1->pysentimiento) (6.0.5)\n",
            "Requirement already satisfied: yarl<2.0,>=1.0 in /usr/local/lib/python3.10/dist-packages (from aiohttp->datasets>=2.10.1->pysentimiento) (1.9.4)\n",
            "Requirement already satisfied: async-timeout<5.0,>=4.0 in /usr/local/lib/python3.10/dist-packages (from aiohttp->datasets>=2.10.1->pysentimiento) (4.0.3)\n",
            "Requirement already satisfied: annotated-types>=0.4.0 in /usr/local/lib/python3.10/dist-packages (from pydantic!=1.8,!=1.8.1,<3.0.0,>=1.7.4->spacy>=3.5.0->pysentimiento) (0.6.0)\n",
            "Requirement already satisfied: pydantic-core==2.16.3 in /usr/local/lib/python3.10/dist-packages (from pydantic!=1.8,!=1.8.1,<3.0.0,>=1.7.4->spacy>=3.5.0->pysentimiento) (2.16.3)\n",
            "Requirement already satisfied: charset-normalizer<4,>=2 in /usr/local/lib/python3.10/dist-packages (from requests>=2.19.0->datasets>=2.10.1->pysentimiento) (3.3.2)\n",
            "Requirement already satisfied: idna<4,>=2.5 in /usr/local/lib/python3.10/dist-packages (from requests>=2.19.0->datasets>=2.10.1->pysentimiento) (3.6)\n",
            "Requirement already satisfied: urllib3<3,>=1.21.1 in /usr/local/lib/python3.10/dist-packages (from requests>=2.19.0->datasets>=2.10.1->pysentimiento) (2.0.7)\n",
            "Requirement already satisfied: certifi>=2017.4.17 in /usr/local/lib/python3.10/dist-packages (from requests>=2.19.0->datasets>=2.10.1->pysentimiento) (2024.2.2)\n",
            "Requirement already satisfied: blis<0.8.0,>=0.7.8 in /usr/local/lib/python3.10/dist-packages (from thinc<8.3.0,>=8.2.2->spacy>=3.5.0->pysentimiento) (0.7.11)\n",
            "Requirement already satisfied: confection<1.0.0,>=0.0.1 in /usr/local/lib/python3.10/dist-packages (from thinc<8.3.0,>=8.2.2->spacy>=3.5.0->pysentimiento) (0.1.4)\n",
            "Requirement already satisfied: click<9.0.0,>=7.1.1 in /usr/local/lib/python3.10/dist-packages (from typer<0.10.0,>=0.3.0->spacy>=3.5.0->pysentimiento) (8.1.7)\n",
            "Requirement already satisfied: cloudpathlib<0.17.0,>=0.7.0 in /usr/local/lib/python3.10/dist-packages (from weasel<0.4.0,>=0.1.0->spacy>=3.5.0->pysentimiento) (0.16.0)\n",
            "Requirement already satisfied: MarkupSafe>=2.0 in /usr/local/lib/python3.10/dist-packages (from jinja2->spacy>=3.5.0->pysentimiento) (2.1.5)\n",
            "Requirement already satisfied: python-dateutil>=2.8.1 in /usr/local/lib/python3.10/dist-packages (from pandas->datasets>=2.10.1->pysentimiento) (2.8.2)\n",
            "Requirement already satisfied: pytz>=2020.1 in /usr/local/lib/python3.10/dist-packages (from pandas->datasets>=2.10.1->pysentimiento) (2023.4)\n",
            "Requirement already satisfied: mpmath>=0.19 in /usr/local/lib/python3.10/dist-packages (from sympy->torch!=2.0.1,>=2.0.0->pysentimiento) (1.3.0)\n",
            "Requirement already satisfied: six>=1.5 in /usr/local/lib/python3.10/dist-packages (from python-dateutil>=2.8.1->pandas->datasets>=2.10.1->pysentimiento) (1.16.0)\n",
            "Installing collected packages: xxhash, nvidia-nvtx-cu12, nvidia-nvjitlink-cu12, nvidia-nccl-cu12, nvidia-curand-cu12, nvidia-cufft-cu12, nvidia-cuda-runtime-cu12, nvidia-cuda-nvrtc-cu12, nvidia-cuda-cupti-cu12, nvidia-cublas-cu12, emoji, dill, nvidia-cusparse-cu12, nvidia-cudnn-cu12, multiprocess, nvidia-cusolver-cu12, datasets, accelerate, pysentimiento\n",
            "Successfully installed accelerate-0.28.0 datasets-2.18.0 dill-0.3.8 emoji-2.11.0 multiprocess-0.70.16 nvidia-cublas-cu12-12.1.3.1 nvidia-cuda-cupti-cu12-12.1.105 nvidia-cuda-nvrtc-cu12-12.1.105 nvidia-cuda-runtime-cu12-12.1.105 nvidia-cudnn-cu12-8.9.2.26 nvidia-cufft-cu12-11.0.2.54 nvidia-curand-cu12-10.3.2.106 nvidia-cusolver-cu12-11.4.5.107 nvidia-cusparse-cu12-12.1.0.106 nvidia-nccl-cu12-2.19.3 nvidia-nvjitlink-cu12-12.4.99 nvidia-nvtx-cu12-12.1.105 pysentimiento-0.7.3 xxhash-3.4.1\n"
          ]
        }
      ]
    },
    {
      "cell_type": "code",
      "source": [
        "from pysentimiento import create_analyzer"
      ],
      "metadata": {
        "id": "cVJITShXOGSR"
      },
      "execution_count": null,
      "outputs": []
    },
    {
      "cell_type": "code",
      "source": [
        "analyzer = create_analyzer(task=\"sentiment\", lang=\"es\")\n",
        "\n",
        "analyzer.predict(\"Porque abrí una cuenta para comprar dolar MET y no hubo manera que me atendieran pese a los constantes envíos de mail a la Srta resposable del sector, ni aún el empleado de Bco. Ciudad, suc. V. Urquiza lograba que le respondieran. Él también envíaba mails. Me dijo que tenía que ir a la central. Finalmente, nunca pude operar y me enviaron un mail diciendo que dado que no había habido movimiento, habían dado de baja la cuenta. Ni siquiera tuvieron la amabilidad de preguntarme si quería darla de baja o no. Un maltrato hacia el cliente que quedó en la nada y en mi desilusión para operar con ustedes. Tuve la Cuenta Sueldo como docente y ahora tengo la de jubilada. Hay veces que me dan ganas de pasarme de banco.\")\n",
        "# returns AnalyzerOutput(output=POS, probas={POS: 0.998, NEG: 0.002, NEU: 0.000})"
      ],
      "metadata": {
        "colab": {
          "base_uri": "https://localhost:8080/"
        },
        "id": "trRku2gLOU4k",
        "outputId": "fcea71ba-a644-4dee-9608-f511d5e8fdff"
      },
      "execution_count": null,
      "outputs": [
        {
          "output_type": "execute_result",
          "data": {
            "text/plain": [
              "AnalyzerOutput(output=NEG, probas={NEG: 0.958, NEU: 0.039, POS: 0.003})"
            ]
          },
          "metadata": {},
          "execution_count": 47
        }
      ]
    }
  ]
}